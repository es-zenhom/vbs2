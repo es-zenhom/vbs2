{
 "cells": [
  {
   "cell_type": "code",
   "execution_count": 1,
   "id": "ecdbbee7",
   "metadata": {},
   "outputs": [],
   "source": [
    "import uproot\n",
    "import glob\n",
    "import json\n",
    "import pandas as pd\n",
    "from warnings import simplefilter\n",
    "simplefilter(action=\"ignore\", category=pd.errors.PerformanceWarning)\n",
    "import numpy as np\n",
    "import itertools\n",
    "\n",
    "from utils.analysis import PandasAnalysis\n",
    "from utils.cutflow import Cutflow\n",
    "\n",
    "TAG = \"kscans\""
   ]
  },
  {
   "cell_type": "code",
   "execution_count": 2,
   "id": "9950acda",
   "metadata": {},
   "outputs": [
    {
     "name": "stdout",
     "output_type": "stream",
     "text": [
      "['../analysis/studies/vbswh/output_kscans/Run2/data.root']\n",
      "['../analysis/studies/vbswh/output_kscans/Run2/VBSWH_mkW.root']\n"
     ]
    },
    {
     "data": {
      "text/plain": [
       "['../analysis/studies/vbswh/output_kscans/Run2/TTX.root',\n",
       " '../analysis/studies/vbswh/output_kscans/Run2/TTbar1L.root',\n",
       " '../analysis/studies/vbswh/output_kscans/Run2/SingleTop.root',\n",
       " '../analysis/studies/vbswh/output_kscans/Run2/VBSWH_SM.root',\n",
       " '../analysis/studies/vbswh/output_kscans/Run2/EWKWLep.root',\n",
       " '../analysis/studies/vbswh/output_kscans/Run2/TTbar2L.root',\n",
       " '../analysis/studies/vbswh/output_kscans/Run2/VH.root',\n",
       " '../analysis/studies/vbswh/output_kscans/Run2/WJets.root',\n",
       " '../analysis/studies/vbswh/output_kscans/Run2/Bosons.root']"
      ]
     },
     "execution_count": 2,
     "metadata": {},
     "output_type": "execute_result"
    }
   ],
   "source": [
    "babies = glob.glob(f\"../analysis/studies/vbswh/output_{TAG}/Run2/*.root\")\n",
    "babies = [baby for baby in babies if \"Lambda\" not in baby]\n",
    "data_babies = [baby for baby in babies if \"data\" in baby]\n",
    "sig_babies = [baby for baby in babies if \"VBSWH_mkW\" in baby]\n",
    "bkg_babies = list(set(babies) - set(data_babies + sig_babies))\n",
    "print(data_babies)\n",
    "print(sig_babies)\n",
    "bkg_babies"
   ]
  },
  {
   "cell_type": "code",
   "execution_count": 3,
   "id": "01eaac9e",
   "metadata": {},
   "outputs": [
    {
     "name": "stderr",
     "output_type": "stream",
     "text": [
      "Loading sig babies: 100%|████████████████████████████████████████████████████████████████████████████████████████████████████████████████████████████████████████████████████████████████████████████████████████████████████████| 1/1 [00:00<00:00,  2.76it/s]\n",
      "Loading bkg babies: 100%|████████████████████████████████████████████████████████████████████████████████████████████████████████████████████████████████████████████████████████████████████████████████████████████████████████| 8/8 [00:38<00:00,  4.78s/it]\n",
      "Loading data babies: 100%|███████████████████████████████████████████████████████████████████████████████████████████████████████████████████████████████████████████████████████████████████████████████████████████████████████| 1/1 [00:01<00:00,  1.01s/it]\n"
     ]
    }
   ],
   "source": [
    "vbswh = PandasAnalysis(\n",
    "    sig_root_files=sig_babies,\n",
    "    bkg_root_files=[b for b in bkg_babies if \"VBSWH_SM\" not in b],\n",
    "    data_root_files=data_babies,\n",
    "    ttree_name=\"tree\",\n",
    "    weight_columns=[\n",
    "        \"xsec_sf\", \"lep_id_sf\", \"ewkfix_sf\", \n",
    "        \"elec_reco_sf\", \"muon_iso_sf\", \n",
    "        \"btag_sf\", \"pu_sf\", \"prefire_sf\", \"trig_sf\", \"puid_sf\",\n",
    "        \"xbb_sf\" # applied only because Xbb > 0.9 applied everywhere for SR1 and SR2\n",
    "    ],\n",
    "    reweight_column=\"reweights\"\n",
    ")\n",
    "vbswh.df[\"unity\"] = 1 # IMPORTANT\n",
    "vbswh.df[\"presel_noDetaJJ\"] = vbswh.df.eval(\n",
    "    \"passes_bveto and M_jj > 500 and hbbjet_score > 0.3\"\n",
    ")\n",
    "vbswh.df[\"presel\"] = vbswh.df.eval(\n",
    "    \"passes_bveto and M_jj > 500 and abs(deta_jj) > 3 and hbbjet_score > 0.3\"\n",
    ")\n",
    "vbswh.df[\"SR2\"] = vbswh.df.eval(\n",
    "    \"presel_noDetaJJ and M_jj > 600 and ST > 1500 and hbbjet_score > 0.9 and abs(deta_jj) > 4 and hbbjet_msoftdrop < 150\"\n",
    ")\n",
    "vbswh.df[\"SR1\"] = vbswh.df.eval(\n",
    "    \"presel_noDetaJJ and M_jj > 600 and ST > 900 and hbbjet_score > 0.9 and abs(deta_jj) > 4 and hbbjet_msoftdrop < 150\"\n",
    ")\n",
    "vbswh.df[\"SR2_up\"] = vbswh.df.eval(\n",
    "    \"presel_noDetaJJ and M_jj > 600 and ST_up > 1500 and hbbjet_score > 0.9 and abs(deta_jj) > 4 and hbbjet_msoftdrop < 150\"\n",
    ")\n",
    "vbswh.df[\"SR1_up\"] = vbswh.df.eval(\n",
    "    \"presel_noDetaJJ and M_jj > 600 and ST_up > 900 and hbbjet_score > 0.9 and abs(deta_jj) > 4 and hbbjet_msoftdrop < 150\"\n",
    ")\n",
    "vbswh.df[\"SR2_dn\"] = vbswh.df.eval(\n",
    "    \"presel_noDetaJJ and M_jj > 600 and ST_dn > 1500 and hbbjet_score > 0.9 and abs(deta_jj) > 4 and hbbjet_msoftdrop < 150\"\n",
    ")\n",
    "vbswh.df[\"SR1_dn\"] = vbswh.df.eval(\n",
    "    \"presel_noDetaJJ and M_jj > 600 and ST_dn > 900 and hbbjet_score > 0.9 and abs(deta_jj) > 4 and hbbjet_msoftdrop < 150\"\n",
    ")\n",
    "vbswh.df[\"regionA\"] = vbswh.df.eval(\n",
    "    \"presel_noDetaJJ and M_jj > 600 and ST > 900 and hbbjet_score > 0.9 and abs(deta_jj) > 4 and hbbjet_msoftdrop >= 150\"\n",
    ")\n",
    "vbswh.df[\"regionB\"] = vbswh.df.eval(\n",
    "    \"presel_noDetaJJ and M_jj > 600 and ST > 900 and hbbjet_score > 0.9 and abs(deta_jj) <= 4 and hbbjet_msoftdrop >= 150\"\n",
    ")\n",
    "vbswh.df[\"regionC\"] = vbswh.df.eval(\n",
    "    \"presel_noDetaJJ and M_jj > 600 and ST > 900 and hbbjet_score > 0.9 and abs(deta_jj) <= 4 and hbbjet_msoftdrop < 150\"\n",
    ")\n",
    "\n",
    "SIGNAL_REGIONS = [\"SR1\", \"SR2\"]"
   ]
  },
  {
   "cell_type": "markdown",
   "id": "d18a13d2",
   "metadata": {},
   "source": [
    "# Utilities"
   ]
  },
  {
   "cell_type": "code",
   "execution_count": 4,
   "id": "b907884b",
   "metadata": {},
   "outputs": [],
   "source": [
    "class Systematic:\n",
    "    def __init__(self, name, signal_regions):\n",
    "        self.name = name\n",
    "        self.signal_regions = signal_regions\n",
    "        self.systs = {signal_region: [] for signal_region in signal_regions}\n",
    "        \n",
    "    def copy(self, name):\n",
    "        new_systs = Systematic(name, signal_regions=self.signal_regions)\n",
    "        new_systs.systs = self.systs\n",
    "        return new_systs\n",
    "\n",
    "    def add_syst(self, syst, signal_region):\n",
    "        self.systs[signal_region].append(syst)\n",
    "        \n",
    "    def add_systs(self, systs, signal_region=None):\n",
    "        if signal_region:\n",
    "            self.systs[signal_region] += systs\n",
    "        else:\n",
    "            for syst_i, syst in enumerate(systs):\n",
    "                self.systs[self.signal_regions[syst_i]].append(syst)\n",
    "    \n",
    "    def get_systs(self):\n",
    "        return self.systs\n",
    "    \n",
    "    def get_systs_str(self, signal_region=None):\n",
    "        if signal_region:\n",
    "            systs = self.systs[signal_region]\n",
    "            if len(systs) == 1:\n",
    "                return f\"{systs[0]:0.1%}\"\n",
    "            else:\n",
    "                return f\"{min(systs):0.1%} - {max(systs):0.1%}\"\n",
    "        else:\n",
    "            return {SR: self.get_systs_str(signal_region=SR) for SR in self.signal_regions}\n",
    "        \n",
    "class SystematicsTable:\n",
    "    def __init__(self, systs=None, samples=None):\n",
    "        self.systs = systs or []\n",
    "        self.samples = samples or []\n",
    "        \n",
    "    def add_row(self, syst):\n",
    "        self.systs.append(syst)\n",
    "        \n",
    "    def to_dataframe(self, columns=None):\n",
    "        rows = []\n",
    "        for syst in self.systs:\n",
    "            row = {\"Systematic\": syst.name}\n",
    "            row.update(syst.get_systs_str())\n",
    "            rows.append(row)\n",
    "        df = pd.DataFrame(rows)\n",
    "        if columns:\n",
    "            columns.insert(0, \"Systematic\")\n",
    "            return df[columns]\n",
    "        else:\n",
    "            return df\n",
    "        \n",
    "    def to_csv(self, columns=None, output_csv=None):\n",
    "        df = self.to_dataframe(columns=columns)\n",
    "        csv = df.to_csv(index=False)\n",
    "        if output_csv:\n",
    "            with open(output_csv, \"w\") as csv_out:\n",
    "                csv.write(csv)\n",
    "        else:\n",
    "            return csv\n",
    "        \n",
    "    def to_latex(self, columns=None, output_tex=None):\n",
    "        # Convert to Pandas DataFrame\n",
    "        df = self.to_dataframe(columns=columns)\n",
    "        \n",
    "        # Convert to LaTeX\n",
    "        latex = (df.style\n",
    "                   .hide(axis=\"index\")\n",
    "                   .to_latex(column_format=\"lcc\", position=\"H\")\n",
    "                   .replace(\"%\", \"\\%\"))\n",
    "        # Insert hlines and centering\n",
    "        latex = latex.split(\"\\n\")\n",
    "        latex.insert(3, \"\\\\hline\")\n",
    "        latex.insert(2, \"\\\\hline\\n\\\\hline\")\n",
    "        latex.insert(1, \"\\\\begin{center}\")\n",
    "        latex.insert(-3, \"\\\\hline\\n\\\\hline\")\n",
    "        latex.insert(-2, \"\\\\end{center}\")\n",
    "        latex = \"\\n\".join(latex)\n",
    "        \n",
    "        if output_tex:\n",
    "            with open(output_tex, \"w\") as tex_out:\n",
    "                tex_out.write(latex)\n",
    "        else:\n",
    "            return latex\n",
    "    \n",
    "    def to_datacard_json(self, signal_regions=None, output_json=None):\n",
    "        datacard_systs = {}\n",
    "        for syst in self.systs:\n",
    "            labeled_systs = syst.get_systs()\n",
    "            datacard_systs[syst.name] = [1 + max(systs[SR]) for SR in signal_regions]\n",
    "            \n",
    "        if output_json:\n",
    "            with open(output_json, \"w\") as json_out:\n",
    "                json.dump(datacard_systs, json_out)\n",
    "                \n",
    "        return datacard_systs\n",
    "    \n",
    "def get_year_str(year, doAPV=True):\n",
    "    if doAPV and year == -2016:\n",
    "        return \"2016preVFP\"\n",
    "    elif doAPV and year == 2016:\n",
    "        return \"2016postVFP\"\n",
    "    else:\n",
    "        return str(abs(year))"
   ]
  },
  {
   "cell_type": "markdown",
   "id": "64e5ad6f",
   "metadata": {},
   "source": [
    "# Scale factors"
   ]
  },
  {
   "cell_type": "code",
   "execution_count": 5,
   "id": "24431b84",
   "metadata": {},
   "outputs": [],
   "source": [
    "SIG_SYSTS_TABLE = SystematicsTable(samples=[\"VBSWH_mkW\"])\n",
    "BKG_SYSTS_TABLE = SystematicsTable(\n",
    "    samples=[b.split(\"/\")[-1].replace(\".root\", \"\") for b in bkg_babies]\n",
    ")\n",
    "SIG_SYSTS_LIMIT = SystematicsTable(samples=[\"VBSWH_mkW\"])"
   ]
  },
  {
   "cell_type": "code",
   "execution_count": 6,
   "id": "0e1f83a6",
   "metadata": {},
   "outputs": [],
   "source": [
    "def get_systs(sample_name, signal_regions, sf, *sf_variations, year=None):\n",
    "    global vsbwh\n",
    "    systs = []\n",
    "    for SR in signal_regions:\n",
    "        df = vbswh.sample_df(name=sample_name, selection=SR)\n",
    "        # Get nominal\n",
    "        count = df.event_weight.sum()\n",
    "        # Get delta = nominal - variation for each variation\n",
    "        deltas = []\n",
    "        for sf_var in sf_variations:\n",
    "            if year:\n",
    "                year_df = df[df.year == year]\n",
    "                count_var = (\n",
    "                    np.sum(year_df.event_weight/year_df[sf]*year_df[sf_var])\n",
    "                    + np.sum(df[df.year != year].event_weight)\n",
    "                )\n",
    "            else:\n",
    "                count_var = np.sum(df.event_weight/df[sf]*df[sf_var])\n",
    "            deltas.append(abs((count - count_var)/count))\n",
    "        \n",
    "        systs.append(max(deltas))\n",
    "        \n",
    "    return systs\n",
    "\n",
    "def get_systs_nonSF(sample_name, signal_regions, signal_regions_up, signal_regions_dn):\n",
    "    systs = []\n",
    "    for SR_i, SR in enumerate(signal_regions):\n",
    "        SR_up = signal_regions_up[SR_i]\n",
    "        SR_dn = signal_regions_dn[SR_i]\n",
    "        \n",
    "        df = vbswh.sample_df(name=sample_name, selection=SR)\n",
    "        df_up = vbswh.sample_df(name=sample_name, selection=SR_up)\n",
    "        df_dn = vbswh.sample_df(name=sample_name, selection=SR_dn)\n",
    "        \n",
    "        count = df.event_weight.sum()\n",
    "        count_up = df_up.event_weight.sum()\n",
    "        count_dn = df_dn.event_weight.sum()\n",
    "        \n",
    "        up_perc = abs((count_up - count)/count)\n",
    "        dn_perc = abs((count - count_dn)/count)\n",
    "        \n",
    "        systs.append(max(up_perc, dn_perc))\n",
    "        \n",
    "    return systs"
   ]
  },
  {
   "cell_type": "markdown",
   "id": "0654ec4a",
   "metadata": {},
   "source": [
    "### PDF uncertainty"
   ]
  },
  {
   "cell_type": "code",
   "execution_count": 7,
   "id": "3a7e62dc",
   "metadata": {},
   "outputs": [],
   "source": [
    "root_files = glob.glob(\"/ceph/cms/store/user/jguiang/VBSVHSkim/sig_1lep_1ak8_2ak4_pku/VBSWH_mkW*NANOGEN*/merged.root\")\n",
    "gen_sum = 0\n",
    "pdf_sum = np.zeros(101)\n",
    "for root_file in root_files:\n",
    "    with uproot.open(root_file) as f:\n",
    "        gen_sums = f[\"Runs\"][\"genEventSumw\"].array(library=\"np\")\n",
    "        pdf_sums = f[\"Runs\"][\"LHEPdfSumw\"].array(library=\"np\")\n",
    "#         print(pdf_sums[0].shape)\n",
    "        missed = np.array([len(s) != 101 for s in pdf_sums])\n",
    "        reshaped = np.vstack(pdf_sums[~missed])\n",
    "        pdf_sum += np.dot(gen_sums[~missed], reshaped) + np.sum(gen_sums[missed])\n",
    "        gen_sum += np.sum(gen_sums)\n",
    "        \n",
    "pdf_ratio = pdf_sum/gen_sum\n",
    "# pdf_ratio = pdf_sum/pdf_sum[0] # pdf_sum[0] should be equal to gen_sum, but isn't right now...\n",
    "\n",
    "with uproot.open(\"../analysis/studies/vbswh/output_kscans/Run2/VBSWH_mkW.root\") as f:\n",
    "    df = f.get(\"pdf_tree\").arrays(library=\"pd\")\n",
    "    \n",
    "systs = []\n",
    "for signal_region in SIGNAL_REGIONS:\n",
    "    SR = df.eval(signal_region)\n",
    "    count = np.sum(df[SR].event_weight*df[SR].lhe_pdf_0)\n",
    "    deltas = []\n",
    "    for i in range(1, 101):\n",
    "        count_var = np.sum(df[SR].event_weight*df[SR][f\"lhe_pdf_{i}\"])\n",
    "        deltas.append(count - count_var/pdf_ratio[i])\n",
    "\n",
    "    deltas = np.array(deltas)\n",
    "    systs.append(np.sqrt(np.sum(deltas**2))/count)\n",
    "\n",
    "pdf_systs = Systematic(\"PDF variations\", SIGNAL_REGIONS)\n",
    "pdf_systs.add_systs(systs)\n",
    "SIG_SYSTS_TABLE.add_row(pdf_systs)\n",
    "SIG_SYSTS_LIMIT.add_row(pdf_systs.copy(\"pdf_vars\"))"
   ]
  },
  {
   "cell_type": "markdown",
   "id": "23b2a891",
   "metadata": {},
   "source": [
    "### $\\alpha_S$ uncertainty"
   ]
  },
  {
   "cell_type": "code",
   "execution_count": 8,
   "id": "0218b7e4",
   "metadata": {},
   "outputs": [],
   "source": [
    "# vbswh.df[\"alphaS_corr_up\"] = vbswh.df.alphaS_up\n",
    "# vbswh.df[\"alphaS_corr_dn\"] = vbswh.df.alphaS_dn\n",
    "\n",
    "# vbswh.df.loc[vbswh.df.is_signal, \"alphaS_corr_up\"] = vbswh.df[vbswh.df.is_signal].alphaS_up/pdf_ratio[101]\n",
    "# vbswh.df.loc[vbswh.df.is_signal, \"alphaS_corr_dn\"] = vbswh.df[vbswh.df.is_signal].alphaS_up/pdf_ratio[102]\n",
    "\n",
    "# alphaS_systs = Systematic(\"$\\\\alpha_S$ unc.\", SIGNAL_REGIONS)\n",
    "# alphaS_systs.add_systs(\n",
    "#     get_systs(\"VBSWH_mkW\", SIGNAL_REGIONS, \"unity\", \"alphaS_corr_dn\", \"alphaS_corr_up\")\n",
    "# )\n",
    "# SIG_SYSTS_TABLE.add_row(alphaS_systs)\n",
    "# SIG_SYSTS_LIMIT.add_row(alphaS_systs.copy(\"alphaS_unc\"))"
   ]
  },
  {
   "cell_type": "markdown",
   "id": "6e90c45e",
   "metadata": {},
   "source": [
    "### LHE scale weights"
   ]
  },
  {
   "cell_type": "code",
   "execution_count": 9,
   "id": "8cda3a32",
   "metadata": {},
   "outputs": [],
   "source": [
    "lhe_muR_weights = list(vbswh.df.columns[vbswh.df.columns.str.contains(\"muF1p0\")])\n",
    "lhe_muF_weights = list(vbswh.df.columns[vbswh.df.columns.str.contains(\"muR1p0\")])\n",
    "\n",
    "muR_systs = Systematic(\"$\\\\mu_R$ scale\", SIGNAL_REGIONS)\n",
    "muR_systs.add_systs(\n",
    "    get_systs(\"VBSWH_mkW\", SIGNAL_REGIONS, \"unity\", *lhe_muR_weights)\n",
    ")\n",
    "\n",
    "muF_systs = Systematic(\"$\\\\mu_F$ scale\", SIGNAL_REGIONS)\n",
    "muF_systs.add_systs(\n",
    "    get_systs(\"VBSWH_mkW\", SIGNAL_REGIONS, \"unity\", *lhe_muF_weights)\n",
    ")\n",
    "\n",
    "# SIG_SYSTS_TABLE.add_row(muR_systs)                   # muR variations have not effect\n",
    "SIG_SYSTS_TABLE.add_row(muF_systs)\n",
    "# SIG_SYSTS_LIMIT.add_row(muR_systs.copy(\"muR_scale\")) # muR variations have not effect\n",
    "SIG_SYSTS_LIMIT.add_row(muF_systs.copy(\"muF_scale\"))"
   ]
  },
  {
   "cell_type": "markdown",
   "id": "cd609da4",
   "metadata": {},
   "source": [
    "### Parton shower weights"
   ]
  },
  {
   "cell_type": "code",
   "execution_count": 10,
   "id": "91eb2309",
   "metadata": {},
   "outputs": [],
   "source": [
    "isr_weights = list(vbswh.df.columns[vbswh.df.columns.str.contains(\"fsr1p0\")])\n",
    "fsr_weights = list(vbswh.df.columns[vbswh.df.columns.str.contains(\"isr1p0\")])\n",
    "\n",
    "isr_sf_systs = Systematic(\"Parton shower ISR weights\", SIGNAL_REGIONS)\n",
    "isr_sf_systs.add_systs(\n",
    "    get_systs(\"VBSWH_mkW\", SIGNAL_REGIONS, \"unity\", *isr_weights)\n",
    ")\n",
    "\n",
    "fsr_sf_systs = Systematic(\"Parton shower FSR weights\", SIGNAL_REGIONS)\n",
    "fsr_sf_systs.add_systs(\n",
    "    get_systs(\"VBSWH_mkW\", SIGNAL_REGIONS, \"unity\", *fsr_weights)\n",
    ")\n",
    "\n",
    "SIG_SYSTS_TABLE.add_row(isr_sf_systs)\n",
    "SIG_SYSTS_TABLE.add_row(fsr_sf_systs)\n",
    "SIG_SYSTS_LIMIT.add_row(isr_sf_systs.copy(\"isr_weights\"))\n",
    "SIG_SYSTS_LIMIT.add_row(fsr_sf_systs.copy(\"fsr_weights\"))"
   ]
  },
  {
   "cell_type": "markdown",
   "id": "aa09748c",
   "metadata": {},
   "source": [
    "### Pileup reweighting"
   ]
  },
  {
   "cell_type": "code",
   "execution_count": 11,
   "id": "93ad39ce",
   "metadata": {},
   "outputs": [
    {
     "name": "stderr",
     "output_type": "stream",
     "text": [
      "/tmp/ipykernel_170971/2742538586.py:19: RuntimeWarning: invalid value encountered in double_scalars\n",
      "  deltas.append(abs((count - count_var)/count))\n"
     ]
    }
   ],
   "source": [
    "bkg_pu_sf_systs = Systematic(\"Pileup reweighting\", SIGNAL_REGIONS)\n",
    "\n",
    "for sample_name in BKG_SYSTS_TABLE.samples:\n",
    "    bkg_pu_sf_systs.add_systs(\n",
    "        get_systs(sample_name, SIGNAL_REGIONS, \"pu_sf\", \"pu_sf_dn\", \"pu_sf_up\")\n",
    "    )\n",
    "\n",
    "BKG_SYSTS_TABLE.add_row(bkg_pu_sf_systs)"
   ]
  },
  {
   "cell_type": "code",
   "execution_count": 12,
   "id": "af7da1e8",
   "metadata": {},
   "outputs": [],
   "source": [
    "pu_sf_systs = Systematic(\"Pileup reweighting\", SIGNAL_REGIONS)\n",
    "pu_sf_systs.add_systs(\n",
    "    get_systs(\"VBSWH_mkW\", SIGNAL_REGIONS, \"pu_sf\", \"pu_sf_dn\", \"pu_sf_up\")\n",
    ")\n",
    "SIG_SYSTS_TABLE.add_row(pu_sf_systs)\n",
    "SIG_SYSTS_LIMIT.add_row(pu_sf_systs.copy(\"pu_rwgt\"))"
   ]
  },
  {
   "cell_type": "markdown",
   "id": "b676b23f",
   "metadata": {},
   "source": [
    "### Pileup jet ID scale factors"
   ]
  },
  {
   "cell_type": "code",
   "execution_count": 13,
   "id": "0b195da2",
   "metadata": {},
   "outputs": [],
   "source": [
    "puid_sf_systs = Systematic(\"Pileup jet ID\", SIGNAL_REGIONS)\n",
    "puid_sf_systs.add_systs(\n",
    "    get_systs(\"VBSWH_mkW\", SIGNAL_REGIONS, \"puid_sf\", \"puid_sf_dn\", \"puid_sf_up\")\n",
    ")\n",
    "SIG_SYSTS_TABLE.add_row(puid_sf_systs)\n",
    "SIG_SYSTS_LIMIT.add_row(puid_sf_systs.copy(\"puid_sf\"))"
   ]
  },
  {
   "cell_type": "markdown",
   "id": "0f3ba6b4",
   "metadata": {},
   "source": [
    "### L1 Prefiring weight"
   ]
  },
  {
   "cell_type": "code",
   "execution_count": 14,
   "id": "a27d8e90",
   "metadata": {},
   "outputs": [
    {
     "name": "stderr",
     "output_type": "stream",
     "text": [
      "/tmp/ipykernel_170971/2742538586.py:19: RuntimeWarning: invalid value encountered in double_scalars\n",
      "  deltas.append(abs((count - count_var)/count))\n"
     ]
    }
   ],
   "source": [
    "bkg_prefire_sf_systs = Systematic(\"L1 pre-fire corrections\", SIGNAL_REGIONS)\n",
    "\n",
    "for sample_name in BKG_SYSTS_TABLE.samples:\n",
    "    bkg_prefire_sf_systs.add_systs(\n",
    "        get_systs(sample_name, SIGNAL_REGIONS, \"prefire_sf\", \"prefire_sf_up\", \"prefire_sf_dn\")\n",
    "    )\n",
    "        \n",
    "BKG_SYSTS_TABLE.add_row(bkg_prefire_sf_systs)"
   ]
  },
  {
   "cell_type": "code",
   "execution_count": 15,
   "id": "72f81645",
   "metadata": {},
   "outputs": [],
   "source": [
    "prefire_sf_systs = Systematic(\"L1 pre-fire corrections\", SIGNAL_REGIONS)\n",
    "prefire_sf_systs.add_systs(\n",
    "    get_systs(\"VBSWH_mkW\", SIGNAL_REGIONS, \"prefire_sf\", \"prefire_sf_up\", \"prefire_sf_dn\")\n",
    ")\n",
    "SIG_SYSTS_TABLE.add_row(prefire_sf_systs)\n",
    "SIG_SYSTS_LIMIT.add_row(prefire_sf_systs.copy(\"L1_prefire\"))"
   ]
  },
  {
   "cell_type": "markdown",
   "id": "7b38ed60",
   "metadata": {},
   "source": [
    "### HLT scale factors"
   ]
  },
  {
   "cell_type": "code",
   "execution_count": 16,
   "id": "ba94a47a",
   "metadata": {},
   "outputs": [],
   "source": [
    "trig_sf_systs = Systematic(\"HLT scale factors\", SIGNAL_REGIONS)\n",
    "trig_sf_systs.add_systs(\n",
    "    get_systs(\"VBSWH_mkW\", SIGNAL_REGIONS, \"trig_sf\", \"trig_sf_up\", \"trig_sf_dn\")\n",
    ")\n",
    "SIG_SYSTS_TABLE.add_row(trig_sf_systs)\n",
    "SIG_SYSTS_LIMIT.add_row(trig_sf_systs.copy(\"hlt_sfs\"))"
   ]
  },
  {
   "cell_type": "markdown",
   "id": "4f15dd6f",
   "metadata": {},
   "source": [
    "### Statistical uncertainty"
   ]
  },
  {
   "cell_type": "code",
   "execution_count": 17,
   "id": "4eeaedc3",
   "metadata": {},
   "outputs": [],
   "source": [
    "bkg_stat_systs = Systematic(\"Simulation stat. unc.\", SIGNAL_REGIONS)\n",
    "for sample_name in BKG_SYSTS_TABLE.samples:\n",
    "    bkg_stat_systs.add_systs(\n",
    "        [\n",
    "            vbswh.bkg_error(selection=f\"SR1 and name == '{sample_name}'\")/vbswh.bkg_count(selection=\"SR1\"), \n",
    "            vbswh.bkg_error(selection=f\"SR2 and name == '{sample_name}'\")/vbswh.bkg_count(selection=\"SR2\")\n",
    "        ]\n",
    "    )\n",
    "BKG_SYSTS_TABLE.add_row(bkg_stat_systs)"
   ]
  },
  {
   "cell_type": "code",
   "execution_count": 18,
   "id": "d339aca2",
   "metadata": {},
   "outputs": [],
   "source": [
    "stat_systs = Systematic(\"Simulation stat. unc.\", SIGNAL_REGIONS)\n",
    "stat_systs.add_systs(\n",
    "    [\n",
    "        vbswh.sig_error(selection=\"SR1\")/vbswh.sig_count(selection=\"SR1\"), \n",
    "        vbswh.sig_error(selection=\"SR2\")/vbswh.sig_count(selection=\"SR2\")\n",
    "    ]\n",
    ")\n",
    "SIG_SYSTS_TABLE.add_row(stat_systs)\n",
    "SIG_SYSTS_LIMIT.add_row(stat_systs.copy(\"mc_stat\"))"
   ]
  },
  {
   "cell_type": "markdown",
   "id": "e0f5478d",
   "metadata": {},
   "source": [
    "### Lepton scale factors"
   ]
  },
  {
   "cell_type": "code",
   "execution_count": 19,
   "id": "6eb07ab9",
   "metadata": {},
   "outputs": [
    {
     "name": "stderr",
     "output_type": "stream",
     "text": [
      "/tmp/ipykernel_170971/2742538586.py:19: RuntimeWarning: invalid value encountered in double_scalars\n",
      "  deltas.append(abs((count - count_var)/count))\n"
     ]
    }
   ],
   "source": [
    "bkg_lep_sf_systs = Systematic(\"Lepton scale factors\", SIGNAL_REGIONS)\n",
    "\n",
    "for sample_name in BKG_SYSTS_TABLE.samples:\n",
    "    bkg_lep_sf_systs.add_systs(\n",
    "        get_systs(sample_name, SIGNAL_REGIONS, \"lep_id_sf\", \"lep_id_sf_up\", \"lep_id_sf_dn\")\n",
    "    )\n",
    "        \n",
    "BKG_SYSTS_TABLE.add_row(bkg_lep_sf_systs)"
   ]
  },
  {
   "cell_type": "code",
   "execution_count": 20,
   "id": "04169955",
   "metadata": {},
   "outputs": [],
   "source": [
    "lep_sf_systs = Systematic(\"Lepton scale factors\", SIGNAL_REGIONS)\n",
    "lep_sf_systs.add_systs(\n",
    "    get_systs(\"VBSWH_mkW\", SIGNAL_REGIONS, \"lep_id_sf\", \"lep_id_sf_up\", \"lep_id_sf_dn\")\n",
    ")\n",
    "lep_sf_systs.add_systs(\n",
    "    get_systs(\"VBSWH_mkW\", SIGNAL_REGIONS, \"elec_reco_sf\", \"elec_reco_sf_up\", \"elec_reco_sf_dn\")\n",
    ")\n",
    "lep_sf_systs.add_systs(\n",
    "    get_systs(\"VBSWH_mkW\", SIGNAL_REGIONS, \"muon_iso_sf\", \"muon_iso_sf_up\", \"muon_iso_sf_dn\")\n",
    ")\n",
    "SIG_SYSTS_TABLE.add_row(lep_sf_systs)\n",
    "\n",
    "lep_id_sf_systs = Systematic(\"lep_id\", SIGNAL_REGIONS)\n",
    "lep_id_sf_systs.add_systs(\n",
    "    get_systs(\"VBSWH_mkW\", SIGNAL_REGIONS, \"lep_id_sf\", \"lep_id_sf_up\", \"lep_id_sf_dn\")\n",
    ")\n",
    "SIG_SYSTS_LIMIT.add_row(lep_id_sf_systs)\n",
    "\n",
    "elec_reco_sf_systs = Systematic(\"elec_reco\", SIGNAL_REGIONS)\n",
    "elec_reco_sf_systs.add_systs(\n",
    "    get_systs(\"VBSWH_mkW\", SIGNAL_REGIONS, \"elec_reco_sf\", \"elec_reco_sf_up\", \"elec_reco_sf_dn\")\n",
    ")\n",
    "SIG_SYSTS_LIMIT.add_row(elec_reco_sf_systs)\n",
    "\n",
    "muon_iso_sf_systs = Systematic(\"muon_iso\", SIGNAL_REGIONS)\n",
    "muon_iso_sf_systs.add_systs(\n",
    "    get_systs(\"VBSWH_mkW\", SIGNAL_REGIONS, \"muon_iso_sf\", \"muon_iso_sf_up\", \"muon_iso_sf_dn\")\n",
    ")\n",
    "SIG_SYSTS_LIMIT.add_row(muon_iso_sf_systs)"
   ]
  },
  {
   "cell_type": "markdown",
   "id": "db5450bb",
   "metadata": {},
   "source": [
    "### ParticleNet Xbb scale factors"
   ]
  },
  {
   "cell_type": "code",
   "execution_count": 21,
   "id": "41a343ef",
   "metadata": {},
   "outputs": [],
   "source": [
    "xbb_sf_systs = Systematic(\"ParticleNet Xbb scale factors\", SIGNAL_REGIONS)\n",
    "# xbb_sf_systs.add_systs(\n",
    "#     get_systs(\"VBSWH_mkW\", SIGNAL_REGIONS, \"xbb_sf\", \"xbb_sf_dn\", \"xbb_sf_up\")\n",
    "# )\n",
    "# SIG_SYSTS_TABLE.add_row(xbb_sf_systs)\n",
    "# SIG_SYSTS_LIMIT.add_row(xbb_sf_systs.copy(\"xbb_sfs\"))\n",
    "\n",
    "for year in [-2016, 2016, 2017, 2018]:\n",
    "    xbb_sf_systs_ = Systematic(f\"xbb_sfs_{get_year_str(year)}\", SIGNAL_REGIONS)\n",
    "    xbb_sf_systs_.add_systs(\n",
    "        get_systs(\"VBSWH_mkW\", SIGNAL_REGIONS, \"xbb_sf\", \"xbb_sf_dn\", \"xbb_sf_up\", year=year)\n",
    "    )\n",
    "    xbb_sf_systs.add_systs(\n",
    "        get_systs(\"VBSWH_mkW\", SIGNAL_REGIONS, \"xbb_sf\", \"xbb_sf_dn\", \"xbb_sf_up\", year=year)\n",
    "    )\n",
    "    SIG_SYSTS_LIMIT.add_row(xbb_sf_systs_)\n",
    "    \n",
    "SIG_SYSTS_TABLE.add_row(xbb_sf_systs)"
   ]
  },
  {
   "cell_type": "markdown",
   "id": "68c8c7e2",
   "metadata": {},
   "source": [
    "### DeepJet b-tagging scale factors"
   ]
  },
  {
   "cell_type": "code",
   "execution_count": 22,
   "id": "f202f0f3",
   "metadata": {},
   "outputs": [
    {
     "name": "stderr",
     "output_type": "stream",
     "text": [
      "/tmp/ipykernel_170971/2742538586.py:19: RuntimeWarning: invalid value encountered in double_scalars\n",
      "  deltas.append(abs((count - count_var)/count))\n"
     ]
    }
   ],
   "source": [
    "bkg_btag_sf_systs = Systematic(\"DeepJet b-tagging scale factors\", SIGNAL_REGIONS)\n",
    "\n",
    "for sample_name in BKG_SYSTS_TABLE.samples:\n",
    "    bkg_btag_sf_systs.add_systs(\n",
    "        get_systs(sample_name, SIGNAL_REGIONS, \"btag_sf\", \"btag_sf_dn\", \"btag_sf_up\")\n",
    "    )\n",
    "\n",
    "BKG_SYSTS_TABLE.add_row(bkg_btag_sf_systs)"
   ]
  },
  {
   "cell_type": "code",
   "execution_count": 23,
   "id": "352659db",
   "metadata": {},
   "outputs": [],
   "source": [
    "btag_sf_systs = Systematic(\"DeepJet b-tagging scale factors\", SIGNAL_REGIONS)\n",
    "btag_sf_systs.add_systs(\n",
    "    get_systs(\"VBSWH_mkW\", SIGNAL_REGIONS, \"btag_sf\", \"btag_sf_dn\", \"btag_sf_up\")\n",
    ")\n",
    "SIG_SYSTS_TABLE.add_row(btag_sf_systs)\n",
    "SIG_SYSTS_LIMIT.add_row(btag_sf_systs.copy(\"btag_sfs\"))"
   ]
  },
  {
   "cell_type": "markdown",
   "id": "9ed0fdb4",
   "metadata": {},
   "source": [
    "### MET uncertainty"
   ]
  },
  {
   "cell_type": "code",
   "execution_count": 24,
   "id": "8a61ad70",
   "metadata": {},
   "outputs": [
    {
     "name": "stderr",
     "output_type": "stream",
     "text": [
      "/tmp/ipykernel_170971/2742538586.py:39: RuntimeWarning: invalid value encountered in double_scalars\n",
      "  up_perc = abs((count_up - count)/count)\n",
      "/tmp/ipykernel_170971/2742538586.py:40: RuntimeWarning: invalid value encountered in double_scalars\n",
      "  dn_perc = abs((count - count_dn)/count)\n"
     ]
    }
   ],
   "source": [
    "bkg_met_unc_systs = Systematic(\"MET unc.\", SIGNAL_REGIONS)\n",
    "\n",
    "for sample_name in BKG_SYSTS_TABLE.samples:\n",
    "    bkg_met_unc_systs.add_systs(\n",
    "        get_systs_nonSF(sample_name, SIGNAL_REGIONS, [\"SR1_dn\", \"SR2_dn\"], [\"SR1_up\", \"SR2_up\"])\n",
    "    )\n",
    "\n",
    "BKG_SYSTS_TABLE.add_row(bkg_met_unc_systs)"
   ]
  },
  {
   "cell_type": "code",
   "execution_count": 25,
   "id": "ce6b0391",
   "metadata": {},
   "outputs": [],
   "source": [
    "met_unc_systs = Systematic(\"MET unc.\", SIGNAL_REGIONS)\n",
    "met_unc_systs.add_systs(\n",
    "    get_systs_nonSF(\"VBSWH_mkW\", SIGNAL_REGIONS, [\"SR1_dn\", \"SR2_dn\"], [\"SR1_up\", \"SR2_up\"])\n",
    ")\n",
    "SIG_SYSTS_TABLE.add_row(met_unc_systs)\n",
    "SIG_SYSTS_LIMIT.add_row(met_unc_systs.copy(\"met_unc\"))"
   ]
  },
  {
   "cell_type": "markdown",
   "id": "9f5c6401",
   "metadata": {},
   "source": [
    "# Jet energy"
   ]
  },
  {
   "cell_type": "code",
   "execution_count": 26,
   "id": "a40e5517",
   "metadata": {},
   "outputs": [],
   "source": [
    "def get_jet_energy_systs(nominal_cflow, up_cflow, dn_cflow, signal_regions, name):\n",
    "    \n",
    "    nominal_cutflow = Cutflow.from_file(nominal_cflow)\n",
    "    up_cutflow = Cutflow.from_file(up_cflow)\n",
    "    dn_cutflow = Cutflow.from_file(dn_cflow)\n",
    "\n",
    "    syst_up_cutflow = (up_cutflow - nominal_cutflow)/nominal_cutflow\n",
    "    syst_dn_cutflow = (nominal_cutflow - dn_cutflow)/nominal_cutflow\n",
    "\n",
    "    systs = Systematic(name, signal_regions.keys())\n",
    "    for SR, cut_name in signal_regions.items():\n",
    "        systs.add_syst(\n",
    "            max(\n",
    "                syst_up_cutflow[cut_name].n_pass,\n",
    "                syst_dn_cutflow[cut_name].n_pass\n",
    "            ),\n",
    "            signal_region=SR\n",
    "        )\n",
    "        \n",
    "    return systs"
   ]
  },
  {
   "cell_type": "markdown",
   "id": "3f6cbfa4",
   "metadata": {},
   "source": [
    "### Jet energy corrections"
   ]
  },
  {
   "cell_type": "code",
   "execution_count": 27,
   "id": "82b0929a",
   "metadata": {},
   "outputs": [],
   "source": [
    "jec_systs = Systematic(\"Jet energy scale\", [\"SR1\", \"SR2\"])\n",
    "\n",
    "for sample_name in BKG_SYSTS_TABLE.samples:\n",
    "    systs = get_jet_energy_systs(\n",
    "        f\"../analysis/studies/vbswh/output_{TAG}/Run2/{sample_name}_cutflow.cflow\",\n",
    "        f\"../analysis/studies/vbswh/output_{TAG}_jec_up/Run2/{sample_name}_cutflow.cflow\",\n",
    "        f\"../analysis/studies/vbswh/output_{TAG}_jec_dn/Run2/{sample_name}_cutflow.cflow\",\n",
    "        {\"SR1\": \"XbbGt0p9_MSDLt150\", \"SR2\": \"STGt1500\"},\n",
    "        \"Jet energy scale\"\n",
    "    )\n",
    "    for SR, values in systs.get_systs().items():\n",
    "        jec_systs.add_systs(values, signal_region=SR)\n",
    "        \n",
    "BKG_SYSTS_TABLE.add_row(jec_systs)"
   ]
  },
  {
   "cell_type": "code",
   "execution_count": 28,
   "id": "158bad39",
   "metadata": {},
   "outputs": [],
   "source": [
    "jec_systs = get_jet_energy_systs(\n",
    "    f\"../analysis/studies/vbswh/output_{TAG}/Run2/VBSWH_mkW_cutflow.cflow\",\n",
    "    f\"../analysis/studies/vbswh/output_{TAG}_jec_up/Run2/VBSWH_mkW_cutflow.cflow\",\n",
    "    f\"../analysis/studies/vbswh/output_{TAG}_jec_dn/Run2/VBSWH_mkW_cutflow.cflow\",\n",
    "    {\"SR1\": \"XbbGt0p9_MSDLt150\", \"SR2\": \"STGt1500\"},\n",
    "    \"Jet energy scale\"\n",
    ")\n",
    "SIG_SYSTS_TABLE.add_row(jec_systs)\n",
    "SIG_SYSTS_LIMIT.add_row(jec_systs.copy(\"jes\"))"
   ]
  },
  {
   "cell_type": "markdown",
   "id": "71e0effc",
   "metadata": {},
   "source": [
    "### Jet energy resolution"
   ]
  },
  {
   "cell_type": "code",
   "execution_count": 29,
   "id": "aa8a0fe5",
   "metadata": {},
   "outputs": [],
   "source": [
    "jer_systs = Systematic(\"Jet energy resolution\", [\"SR1\", \"SR2\"])\n",
    "\n",
    "for sample_name in BKG_SYSTS_TABLE.samples:\n",
    "    systs = get_jet_energy_systs(\n",
    "        f\"../analysis/studies/vbswh/output_{TAG}/Run2/{sample_name}_cutflow.cflow\",\n",
    "        f\"../analysis/studies/vbswh/output_{TAG}_jer_up/Run2/{sample_name}_cutflow.cflow\",\n",
    "        f\"../analysis/studies/vbswh/output_{TAG}_jer_dn/Run2/{sample_name}_cutflow.cflow\",\n",
    "        {\"SR1\": \"XbbGt0p9_MSDLt150\", \"SR2\": \"STGt1500\"},\n",
    "        \"Jet energy resolution\"\n",
    "    )\n",
    "    for SR, values in systs.get_systs().items():\n",
    "        jer_systs.add_systs(values, signal_region=SR)\n",
    "        \n",
    "BKG_SYSTS_TABLE.add_row(jer_systs)"
   ]
  },
  {
   "cell_type": "code",
   "execution_count": 30,
   "id": "cb0c7cdf",
   "metadata": {},
   "outputs": [],
   "source": [
    "jer_systs = get_jet_energy_systs(\n",
    "    f\"../analysis/studies/vbswh/output_{TAG}/Run2/VBSWH_mkW_cutflow.cflow\",\n",
    "    f\"../analysis/studies/vbswh/output_{TAG}_jer_up/Run2/VBSWH_mkW_cutflow.cflow\",\n",
    "    f\"../analysis/studies/vbswh/output_{TAG}_jer_dn/Run2/VBSWH_mkW_cutflow.cflow\",\n",
    "    {\"SR1\": \"XbbGt0p9_MSDLt150\", \"SR2\": \"STGt1500\"},\n",
    "    \"Jet energy resolution\"\n",
    ")\n",
    "SIG_SYSTS_TABLE.add_row(jer_systs)\n",
    "SIG_SYSTS_LIMIT.add_row(jer_systs.copy(\"jer\"))"
   ]
  },
  {
   "cell_type": "markdown",
   "id": "2e54f5a8",
   "metadata": {},
   "source": [
    "# Other"
   ]
  },
  {
   "cell_type": "markdown",
   "id": "f060f9bf",
   "metadata": {},
   "source": [
    "### Luminosity"
   ]
  },
  {
   "cell_type": "code",
   "execution_count": 31,
   "id": "3264145f",
   "metadata": {},
   "outputs": [],
   "source": [
    "lumi_systs = Systematic(\"Luminosity\", SIGNAL_REGIONS)\n",
    "lumi_systs.add_systs([0.016, 0.016])\n",
    "BKG_SYSTS_TABLE.add_row(lumi_systs)\n",
    "SIG_SYSTS_TABLE.add_row(lumi_systs)\n",
    "SIG_SYSTS_LIMIT.add_row(lumi_systs.copy(\"lumi\"))"
   ]
  },
  {
   "cell_type": "markdown",
   "id": "e197a8a4",
   "metadata": {},
   "source": [
    "### H to bb BR uncertainty"
   ]
  },
  {
   "cell_type": "code",
   "execution_count": 32,
   "id": "8181eafa",
   "metadata": {},
   "outputs": [],
   "source": [
    "hbb_br_systs = Systematic(\"\\\\Htobb BR\", SIGNAL_REGIONS)\n",
    "hbb_br_systs.add_systs([0.0127, 0.0127])\n",
    "BKG_SYSTS_TABLE.add_row(hbb_br_systs)\n",
    "SIG_SYSTS_TABLE.add_row(hbb_br_systs)\n",
    "SIG_SYSTS_LIMIT.add_row(hbb_br_systs.copy(\"hbb_br\"))"
   ]
  },
  {
   "cell_type": "code",
   "execution_count": 33,
   "id": "398af104",
   "metadata": {},
   "outputs": [
    {
     "data": {
      "text/html": [
       "<div>\n",
       "<style scoped>\n",
       "    .dataframe tbody tr th:only-of-type {\n",
       "        vertical-align: middle;\n",
       "    }\n",
       "\n",
       "    .dataframe tbody tr th {\n",
       "        vertical-align: top;\n",
       "    }\n",
       "\n",
       "    .dataframe thead th {\n",
       "        text-align: right;\n",
       "    }\n",
       "</style>\n",
       "<table border=\"1\" class=\"dataframe\">\n",
       "  <thead>\n",
       "    <tr style=\"text-align: right;\">\n",
       "      <th></th>\n",
       "      <th>Systematic</th>\n",
       "      <th>SR1</th>\n",
       "    </tr>\n",
       "  </thead>\n",
       "  <tbody>\n",
       "    <tr>\n",
       "      <th>0</th>\n",
       "      <td>Pileup reweighting</td>\n",
       "      <td>0.9% - 11.9%</td>\n",
       "    </tr>\n",
       "    <tr>\n",
       "      <th>1</th>\n",
       "      <td>L1 pre-fire corrections</td>\n",
       "      <td>0.4% - 1.3%</td>\n",
       "    </tr>\n",
       "    <tr>\n",
       "      <th>2</th>\n",
       "      <td>Simulation stat. unc.</td>\n",
       "      <td>0.0% - 2.3%</td>\n",
       "    </tr>\n",
       "    <tr>\n",
       "      <th>3</th>\n",
       "      <td>Lepton scale factors</td>\n",
       "      <td>0.9% - 2.1%</td>\n",
       "    </tr>\n",
       "    <tr>\n",
       "      <th>4</th>\n",
       "      <td>DeepJet b-tagging scale factors</td>\n",
       "      <td>0.2% - 2.9%</td>\n",
       "    </tr>\n",
       "    <tr>\n",
       "      <th>5</th>\n",
       "      <td>MET unc.</td>\n",
       "      <td>0.2% - 15.6%</td>\n",
       "    </tr>\n",
       "    <tr>\n",
       "      <th>6</th>\n",
       "      <td>Jet energy scale</td>\n",
       "      <td>8.9% - 21.3%</td>\n",
       "    </tr>\n",
       "    <tr>\n",
       "      <th>7</th>\n",
       "      <td>Jet energy resolution</td>\n",
       "      <td>1.3% - 7.4%</td>\n",
       "    </tr>\n",
       "    <tr>\n",
       "      <th>8</th>\n",
       "      <td>Luminosity</td>\n",
       "      <td>1.6%</td>\n",
       "    </tr>\n",
       "    <tr>\n",
       "      <th>9</th>\n",
       "      <td>\\Htobb BR</td>\n",
       "      <td>1.3%</td>\n",
       "    </tr>\n",
       "  </tbody>\n",
       "</table>\n",
       "</div>"
      ],
      "text/plain": [
       "                        Systematic           SR1\n",
       "0               Pileup reweighting  0.9% - 11.9%\n",
       "1          L1 pre-fire corrections   0.4% - 1.3%\n",
       "2            Simulation stat. unc.   0.0% - 2.3%\n",
       "3             Lepton scale factors   0.9% - 2.1%\n",
       "4  DeepJet b-tagging scale factors   0.2% - 2.9%\n",
       "5                         MET unc.  0.2% - 15.6%\n",
       "6                 Jet energy scale  8.9% - 21.3%\n",
       "7            Jet energy resolution   1.3% - 7.4%\n",
       "8                       Luminosity          1.6%\n",
       "9                        \\Htobb BR          1.3%"
      ]
     },
     "execution_count": 33,
     "metadata": {},
     "output_type": "execute_result"
    }
   ],
   "source": [
    "BKG_SYSTS_TABLE.to_dataframe(columns=[\"SR1\"])"
   ]
  },
  {
   "cell_type": "code",
   "execution_count": 34,
   "id": "232d31e0",
   "metadata": {},
   "outputs": [
    {
     "data": {
      "text/html": [
       "<div>\n",
       "<style scoped>\n",
       "    .dataframe tbody tr th:only-of-type {\n",
       "        vertical-align: middle;\n",
       "    }\n",
       "\n",
       "    .dataframe tbody tr th {\n",
       "        vertical-align: top;\n",
       "    }\n",
       "\n",
       "    .dataframe thead th {\n",
       "        text-align: right;\n",
       "    }\n",
       "</style>\n",
       "<table border=\"1\" class=\"dataframe\">\n",
       "  <thead>\n",
       "    <tr style=\"text-align: right;\">\n",
       "      <th></th>\n",
       "      <th>Systematic</th>\n",
       "      <th>SR1</th>\n",
       "    </tr>\n",
       "  </thead>\n",
       "  <tbody>\n",
       "    <tr>\n",
       "      <th>0</th>\n",
       "      <td>PDF variations</td>\n",
       "      <td>2.2%</td>\n",
       "    </tr>\n",
       "    <tr>\n",
       "      <th>1</th>\n",
       "      <td>$\\mu_F$ scale</td>\n",
       "      <td>17.7%</td>\n",
       "    </tr>\n",
       "    <tr>\n",
       "      <th>2</th>\n",
       "      <td>Parton shower ISR weights</td>\n",
       "      <td>0.2%</td>\n",
       "    </tr>\n",
       "    <tr>\n",
       "      <th>3</th>\n",
       "      <td>Parton shower FSR weights</td>\n",
       "      <td>1.5%</td>\n",
       "    </tr>\n",
       "    <tr>\n",
       "      <th>4</th>\n",
       "      <td>Pileup reweighting</td>\n",
       "      <td>0.1%</td>\n",
       "    </tr>\n",
       "    <tr>\n",
       "      <th>5</th>\n",
       "      <td>Pileup jet ID</td>\n",
       "      <td>1.0%</td>\n",
       "    </tr>\n",
       "    <tr>\n",
       "      <th>6</th>\n",
       "      <td>L1 pre-fire corrections</td>\n",
       "      <td>1.0%</td>\n",
       "    </tr>\n",
       "    <tr>\n",
       "      <th>7</th>\n",
       "      <td>HLT scale factors</td>\n",
       "      <td>0.8%</td>\n",
       "    </tr>\n",
       "    <tr>\n",
       "      <th>8</th>\n",
       "      <td>Simulation stat. unc.</td>\n",
       "      <td>2.2%</td>\n",
       "    </tr>\n",
       "    <tr>\n",
       "      <th>9</th>\n",
       "      <td>Lepton scale factors</td>\n",
       "      <td>0.0% - 1.6%</td>\n",
       "    </tr>\n",
       "    <tr>\n",
       "      <th>10</th>\n",
       "      <td>ParticleNet Xbb scale factors</td>\n",
       "      <td>1.0% - 1.9%</td>\n",
       "    </tr>\n",
       "    <tr>\n",
       "      <th>11</th>\n",
       "      <td>DeepJet b-tagging scale factors</td>\n",
       "      <td>0.3%</td>\n",
       "    </tr>\n",
       "    <tr>\n",
       "      <th>12</th>\n",
       "      <td>MET unc.</td>\n",
       "      <td>0.3%</td>\n",
       "    </tr>\n",
       "    <tr>\n",
       "      <th>13</th>\n",
       "      <td>Jet energy scale</td>\n",
       "      <td>6.4%</td>\n",
       "    </tr>\n",
       "    <tr>\n",
       "      <th>14</th>\n",
       "      <td>Jet energy resolution</td>\n",
       "      <td>0.6%</td>\n",
       "    </tr>\n",
       "    <tr>\n",
       "      <th>15</th>\n",
       "      <td>Luminosity</td>\n",
       "      <td>1.6%</td>\n",
       "    </tr>\n",
       "    <tr>\n",
       "      <th>16</th>\n",
       "      <td>\\Htobb BR</td>\n",
       "      <td>1.3%</td>\n",
       "    </tr>\n",
       "  </tbody>\n",
       "</table>\n",
       "</div>"
      ],
      "text/plain": [
       "                         Systematic          SR1\n",
       "0                    PDF variations         2.2%\n",
       "1                     $\\mu_F$ scale        17.7%\n",
       "2         Parton shower ISR weights         0.2%\n",
       "3         Parton shower FSR weights         1.5%\n",
       "4                Pileup reweighting         0.1%\n",
       "5                     Pileup jet ID         1.0%\n",
       "6           L1 pre-fire corrections         1.0%\n",
       "7                 HLT scale factors         0.8%\n",
       "8             Simulation stat. unc.         2.2%\n",
       "9              Lepton scale factors  0.0% - 1.6%\n",
       "10    ParticleNet Xbb scale factors  1.0% - 1.9%\n",
       "11  DeepJet b-tagging scale factors         0.3%\n",
       "12                         MET unc.         0.3%\n",
       "13                 Jet energy scale         6.4%\n",
       "14            Jet energy resolution         0.6%\n",
       "15                       Luminosity         1.6%\n",
       "16                        \\Htobb BR         1.3%"
      ]
     },
     "execution_count": 34,
     "metadata": {},
     "output_type": "execute_result"
    }
   ],
   "source": [
    "SIG_SYSTS_TABLE.to_dataframe(columns=[\"SR1\"])"
   ]
  },
  {
   "cell_type": "code",
   "execution_count": 35,
   "id": "00867ebd",
   "metadata": {},
   "outputs": [
    {
     "name": "stdout",
     "output_type": "stream",
     "text": [
      "\\begin{table}[H]\n",
      "\\begin{center}\n",
      "\\begin{tabular}{lcc}\n",
      "\\hline\n",
      "\\hline\n",
      "Systematic & SR1 \\\\\n",
      "\\hline\n",
      "PDF variations & 2.2\\% \\\\\n",
      "$\\mu_F$ scale & 17.7\\% \\\\\n",
      "Parton shower ISR weights & 0.2\\% \\\\\n",
      "Parton shower FSR weights & 1.5\\% \\\\\n",
      "Pileup reweighting & 0.1\\% \\\\\n",
      "Pileup jet ID & 1.0\\% \\\\\n",
      "L1 pre-fire corrections & 1.0\\% \\\\\n",
      "HLT scale factors & 0.8\\% \\\\\n",
      "Simulation stat. unc. & 2.2\\% \\\\\n",
      "Lepton scale factors & 0.0\\% - 1.6\\% \\\\\n",
      "ParticleNet Xbb scale factors & 1.0\\% - 1.9\\% \\\\\n",
      "DeepJet b-tagging scale factors & 0.3\\% \\\\\n",
      "MET unc. & 0.3\\% \\\\\n",
      "Jet energy scale & 6.4\\% \\\\\n",
      "Jet energy resolution & 0.6\\% \\\\\n",
      "Luminosity & 1.6\\% \\\\\n",
      "\\Htobb BR & 1.3\\% \\\\\n",
      "\\hline\n",
      "\\hline\n",
      "\\end{tabular}\n",
      "\\end{center}\n",
      "\\end{table}\n",
      "\n"
     ]
    }
   ],
   "source": [
    "print(SIG_SYSTS_TABLE.to_latex(columns=[\"SR1\"]))"
   ]
  },
  {
   "cell_type": "code",
   "execution_count": 36,
   "id": "038c7cd3",
   "metadata": {},
   "outputs": [
    {
     "name": "stdout",
     "output_type": "stream",
     "text": [
      "Systematic,SR1\n",
      "PDF variations,2.2%\n",
      "$\\mu_F$ scale,17.7%\n",
      "Parton shower ISR weights,0.2%\n",
      "Parton shower FSR weights,1.5%\n",
      "Pileup reweighting,0.1%\n",
      "Pileup jet ID,1.0%\n",
      "L1 pre-fire corrections,1.0%\n",
      "HLT scale factors,0.8%\n",
      "Simulation stat. unc.,2.2%\n",
      "Lepton scale factors,0.0% - 1.6%\n",
      "ParticleNet Xbb scale factors,1.0% - 1.9%\n",
      "DeepJet b-tagging scale factors,0.3%\n",
      "MET unc.,0.3%\n",
      "Jet energy scale,6.4%\n",
      "Jet energy resolution,0.6%\n",
      "Luminosity,1.6%\n",
      "\\Htobb BR,1.3%\n",
      "\n"
     ]
    }
   ],
   "source": [
    "print(SIG_SYSTS_TABLE.to_csv(columns=[\"SR1\"]))"
   ]
  },
  {
   "cell_type": "code",
   "execution_count": 37,
   "id": "85391268",
   "metadata": {},
   "outputs": [],
   "source": [
    "class Datacard:\n",
    "    def __init__(self, obs, sig, bkg, systs):\n",
    "        self.obs = obs\n",
    "        self.n_obs = len(obs)\n",
    "        \n",
    "        self.sig_labels = []\n",
    "        self.sig_yields = [[] for _ in range(self.n_obs)]\n",
    "        for sig_label, sig_yields in sig.items():\n",
    "            self.sig_labels.append(sig_label)\n",
    "            for bin_i, sig_yield in enumerate(sig_yields):\n",
    "                self.sig_yields[bin_i].append(sig_yield)\n",
    "                \n",
    "        self.bkg_labels = []\n",
    "        self.bkg_yields = [[] for _ in range(self.n_obs)]\n",
    "        for bkg_label, bkg_yields in bkg.items():\n",
    "            self.bkg_labels.append(bkg_label)\n",
    "            for bin_i, bkg_yield in enumerate(bkg_yields):\n",
    "                self.bkg_yields[bin_i].append(bkg_yield)\n",
    "\n",
    "        self.n_sig = len(self.sig_labels)\n",
    "        self.n_bkg = len(self.bkg_labels)\n",
    "        \n",
    "        self.column_width = max([len(l) for l in self.sig_labels + self.bkg_labels])+2\n",
    "        self.column_width = max(self.column_width, 12)\n",
    "                \n",
    "        self.syst_labels = []\n",
    "        self.systs = []\n",
    "        n_samples = self.n_sig + self.n_bkg\n",
    "        w = self.column_width\n",
    "        for sample_label, labeled_systs in systs.items():\n",
    "            for syst_label, syst_values in labeled_systs.items():\n",
    "                # Register syst\n",
    "                if syst_label not in self.syst_labels:\n",
    "                    self.syst_labels.append(syst_label)\n",
    "                    self.systs.append([f\"{'-':>{w}}\" for _ in range(self.n_obs*(n_samples))])\n",
    "                \n",
    "                # Get index of syst label\n",
    "                label_i = self.syst_labels.index(syst_label)\n",
    "                \n",
    "                # Assign syst values\n",
    "                if sample_label in self.sig_labels:\n",
    "                    for value_i, syst_value in enumerate(syst_values):\n",
    "                        syst_i = self.sig_labels.index(sample_label)+value_i*n_samples\n",
    "                        self.systs[label_i][syst_i] = f\"{syst_value:{w}.4f}\" \n",
    "                elif sample_label in self.bkg_labels:\n",
    "                    for value_i, syst_value in enumerate(syst_values):\n",
    "                        syst_i = self.n_sig+self.bkg_labels.index(sample_label)+value_i*n_samples\n",
    "                        self.systs[label_i][syst_i] = f\"{syst_value:{w}.4f}\"  \n",
    "                else:\n",
    "                    raise Exception(f\"{sample_label} not found\")\n",
    "                    \n",
    "        self.header_width = max([len(l) for l in self.syst_labels])+2\n",
    "        self.header_width = max(self.header_width, 12)\n",
    "        \n",
    "        self.content = None\n",
    "        self.__create()\n",
    "        \n",
    "    def __create(self):\n",
    "        cw = self.column_width\n",
    "        hw = self.header_width\n",
    "        hline = \"-\"*(hw+5 + cw*(self.n_sig + self.n_bkg)*self.n_obs) + \"\\n\"\n",
    "        content = \"\"\n",
    "        content += f\"imax {self.n_obs} number of channels\\n\"\n",
    "        content += f\"jmax {self.n_bkg} number of backgrounds\\n\"\n",
    "        content += f\"kmax {len(self.systs)} number of nuisance parameters\\n\"\n",
    "        content += hline\n",
    "        content += f\"{'bin':<{hw+5}}\"\n",
    "        content +=  \"\".join([f\"{'bin'+str(i+1):>{cw}}\" for i in range(self.n_obs)])\n",
    "        content +=  \"\\n\"\n",
    "        content += f\"{'observation':<{hw+5}}\"\n",
    "        content +=  \"\".join([f\"{n:{cw}d}\" for n in self.obs])\n",
    "        content +=  \"\\n\"\n",
    "        content += hline\n",
    "        content += f\"{'bin':<{hw+5}}\"\n",
    "        content += \"\".join([f\"{'bin'+str(i+1):>{cw}}\" for i in range(self.n_obs) for _ in range(self.n_sig + self.n_bkg)])\n",
    "        content +=  \"\\n\"\n",
    "        content += f\"{'process':<{hw+5}}\"\n",
    "        content +=  \"\".join([f\"{l:>{cw}}\" for _ in range(self.n_obs) for l in self.sig_labels + self.bkg_labels])\n",
    "        content +=  \"\\n\"\n",
    "        content += f\"{'process':<{hw+5}}\"\n",
    "        content += \"\".join([f\"{i:>{cw}}\" for _ in range(self.n_obs) for i in range(self.n_sig + self.n_bkg)])\n",
    "        content +=  \"\\n\"\n",
    "        content += f\"{'rate':<{hw+5}}\"\n",
    "        content +=  \"\".join([f\"{y[i]:{cw}.2f}\" for y in self.sig_yields for i in range(self.n_sig)])\n",
    "        content +=  \"\".join([f\"{y[i]:{cw}.2f}\" for y in self.bkg_yields for i in range(self.n_bkg)])\n",
    "        content +=  \"\\n\"\n",
    "        content += hline\n",
    "        for syst_i, syst_values in enumerate(self.systs):\n",
    "            content += f\"{self.syst_labels[syst_i]:<{hw}}\"\n",
    "            content +=  \" lnN \"\n",
    "            content +=  \"\".join(syst_values)\n",
    "            content += \"\\n\"\n",
    "            \n",
    "        self.content = content\n",
    "        \n",
    "    def write(self, output_dat):\n",
    "        with open(output_dat, \"w\") as dat_out:\n",
    "            dat_out.write(self.content)"
   ]
  },
  {
   "cell_type": "code",
   "execution_count": 38,
   "id": "b7b92d21",
   "metadata": {},
   "outputs": [
    {
     "name": "stdout",
     "output_type": "stream",
     "text": [
      "imax 1 number of channels\n",
      "jmax 1 number of backgrounds\n",
      "kmax 24 number of nuisance parameters\n",
      "--------------------------------------------------\n",
      "bin                               bin1\n",
      "observation                        120\n",
      "--------------------------------------------------\n",
      "bin                               bin1        bin1\n",
      "process                      VBSWH_mkW    TotalBkg\n",
      "process                              0           1\n",
      "rate                            397.44      120.10\n",
      "--------------------------------------------------\n",
      "abcd_syst             lnN            -      1.1270\n",
      "abcd_stat             lnN            -      1.1340\n",
      "pdf_vars              lnN       1.0215           -\n",
      "muF_scale             lnN       1.1771           -\n",
      "isr_weights           lnN       1.0019           -\n",
      "fsr_weights           lnN       1.0153           -\n",
      "pu_rwgt               lnN       1.0012           -\n",
      "puid_sf               lnN       1.0100           -\n",
      "L1_prefire            lnN       1.0097           -\n",
      "hlt_sfs               lnN       1.0079           -\n",
      "mc_stat               lnN       1.0218           -\n",
      "lep_id                lnN       1.0156           -\n",
      "elec_reco             lnN       1.0031           -\n",
      "muon_iso              lnN       1.0003           -\n",
      "xbb_sfs_2016preVFP    lnN       1.0177           -\n",
      "xbb_sfs_2016postVFP   lnN       1.0102           -\n",
      "xbb_sfs_2017          lnN       1.0104           -\n",
      "xbb_sfs_2018          lnN       1.0185           -\n",
      "btag_sfs              lnN       1.0030           -\n",
      "met_unc               lnN       1.0029           -\n",
      "jes                   lnN       1.0642           -\n",
      "jer                   lnN       1.0059           -\n",
      "lumi                  lnN       1.0160           -\n",
      "hbb_br                lnN       1.0127           -\n",
      "\n"
     ]
    }
   ],
   "source": [
    "with open(\"AN_numbers.json\", \"r\") as f_in:\n",
    "    AN_numbers = json.load(f_in)\n",
    "\n",
    "datacard_systs = {\n",
    "    \"TotalBkg\": {\n",
    "        \"abcd_syst\": [1 + AN_numbers[\"BkgEstTotalSystErr\"]/100],\n",
    "        \"abcd_stat\": [1 + AN_numbers[\"BkgEstStatErr\"]/100]\n",
    "    }\n",
    "}\n",
    "\n",
    "total_sig_syst = 0\n",
    "datacard_systs[\"VBSWH_mkW\"] = {}\n",
    "for syst_obj in SIG_SYSTS_LIMIT.systs:\n",
    "    systs = syst_obj.get_systs()\n",
    "    datacard_systs[\"VBSWH_mkW\"][syst_obj.name] = [1 + systs[\"SR1\"][0]]\n",
    "    total_sig_syst += systs[\"SR1\"][0]**2\n",
    "    \n",
    "total_sig_syst = np.sqrt(total_sig_syst)\n",
    "    \n",
    "pred_bkg = vbswh.data_count(selection=\"regionA\")/vbswh.data_count(selection=\"regionB\")*vbswh.data_count(selection=\"regionC\")\n",
    "datacard = Datacard(\n",
    "    [round(pred_bkg)], # dummy value for observed\n",
    "    {\"VBSWH_mkW\": [vbswh.sig_count(selection=\"SR1\")]},\n",
    "    {\"TotalBkg\": [pred_bkg]},\n",
    "    datacard_systs\n",
    ")\n",
    "    \n",
    "print(datacard.content)\n",
    "datacard.write(\"../combine/datacards/vbswh.dat\")"
   ]
  },
  {
   "cell_type": "code",
   "execution_count": 39,
   "id": "6c1a178e",
   "metadata": {},
   "outputs": [],
   "source": [
    "total_SR1_sig_syst = 0\n",
    "total_SR2_sig_syst = 0\n",
    "for syst_obj in SIG_SYSTS_LIMIT.systs:\n",
    "    systs = syst_obj.get_systs()\n",
    "    total_SR1_sig_syst += systs[\"SR1\"][0]**2\n",
    "    total_SR2_sig_syst += systs[\"SR2\"][0]**2\n",
    "    \n",
    "total_SR1_sig_syst = np.sqrt(total_SR1_sig_syst)\n",
    "total_SR2_sig_syst = np.sqrt(total_SR2_sig_syst)\n",
    "\n",
    "with open(\"AN_numbers.json\", \"w\") as f_out:\n",
    "    AN_numbers[\"ExpSigSystErr\"] = round(total_SR1_sig_syst*AN_numbers[\"ExpSig\"], 1)\n",
    "    AN_numbers[\"SRTwoExpSigSystErr\"] = round(total_SR2_sig_syst*AN_numbers[\"SRTwoExpSig\"], 1)\n",
    "    json.dump(AN_numbers, f_out)"
   ]
  },
  {
   "cell_type": "code",
   "execution_count": 40,
   "id": "34bc5181",
   "metadata": {},
   "outputs": [
    {
     "name": "stdout",
     "output_type": "stream",
     "text": [
      "\\newcommand{\\PredBkg}{120}\n",
      "\\newcommand{\\PredBkgStatErr}{16.1}\n",
      "\\newcommand{\\PredBkgSystErr}{15.3}\n",
      "\\newcommand{\\ExpSig}{397}\n",
      "\\newcommand{\\ExpSigStatErr}{8.7}\n",
      "\\newcommand{\\ExpSigSystErr}{77.9}\n",
      "\\newcommand{\\ExpBkg}{116}\n",
      "\\newcommand{\\BkgEstABMC}{0.71}\n",
      "\\newcommand{\\BkgEstABMCErr}{3.1}\n",
      "\\newcommand{\\BkgEstABData}{0.71}\n",
      "\\newcommand{\\BkgEstABDataErr}{11.0}\n",
      "\\newcommand{\\PredBkgMC}{129.4}\n",
      "\\newcommand{\\BkgEstMethodSystErr}{11.2}\n",
      "\\newcommand{\\BkgEstBkgCompSystErr}{6.0}\n",
      "\\newcommand{\\BkgEstTotalSystErr}{12.7}\n",
      "\\newcommand{\\BkgEstStatErr}{13.4}\n",
      "\\newcommand{\\BkgEstWJetsUpABMC}{0.68}\n",
      "\\newcommand{\\BkgEstWJetsUpABMCErr}{2.9}\n",
      "\\newcommand{\\BkgEstWJetsDownABMC}{0.74}\n",
      "\\newcommand{\\BkgEstWJetsDownABMCErr}{3.2}\n",
      "\\newcommand{\\BkgEstWJetsCompSyst}{5.4}\n",
      "\\newcommand{\\BkgEstBosonsUpABMC}{0.7}\n",
      "\\newcommand{\\BkgEstBosonsUpABMCErr}{4.5}\n",
      "\\newcommand{\\BkgEstBosonsDownABMC}{0.72}\n",
      "\\newcommand{\\BkgEstBosonsDownABMCErr}{2.6}\n",
      "\\newcommand{\\BkgEstBosonsCompSyst}{2.6}\n",
      "\\newcommand{\\SRTwoPredBkg}{5}\n",
      "\\newcommand{\\SRTwoPredBkgStatErr}{0.7}\n",
      "\\newcommand{\\SRTwoPredBkgSystErr}{1.9}\n",
      "\\newcommand{\\SRTwoBkgEstStatErr}{13.4}\n",
      "\\newcommand{\\SRTwoBkgEstSystErr}{35.7}\n",
      "\\newcommand{\\SRTwoExpSig}{106}\n",
      "\\newcommand{\\SRTwoExpSigStatErr}{4.5}\n",
      "\\newcommand{\\SRTwoExpSigSystErr}{25.0}\n",
      "\\newcommand{\\LambdaWZeqNegOneExcl}{0}\n"
     ]
    }
   ],
   "source": [
    "for key, value in AN_numbers.items():\n",
    "    print(f\"\\\\newcommand{{\\\\{key}}}{{{value}}}\")"
   ]
  },
  {
   "cell_type": "code",
   "execution_count": 41,
   "id": "360838a6",
   "metadata": {},
   "outputs": [
    {
     "name": "stdout",
     "output_type": "stream",
     "text": [
      "\\begin{table}[H]\n",
      "\\begin{center}\n",
      "\\begin{tabular}{lcc}\n",
      "\\hline\n",
      "\\hline\n",
      "Systematic & SR2 \\\\\n",
      "\\hline\n",
      "PDF variations & 2.2\\% \\\\\n",
      "$\\mu_F$ scale & 21.1\\% \\\\\n",
      "Parton shower ISR weights & 0.3\\% \\\\\n",
      "Parton shower FSR weights & 0.8\\% \\\\\n",
      "Pileup reweighting & 0.5\\% \\\\\n",
      "Pileup jet ID & 1.0\\% \\\\\n",
      "L1 pre-fire corrections & 1.0\\% \\\\\n",
      "HLT scale factors & 0.8\\% \\\\\n",
      "Simulation stat. unc. & 4.2\\% \\\\\n",
      "Lepton scale factors & 0.0\\% - 1.5\\% \\\\\n",
      "ParticleNet Xbb scale factors & 1.2\\% - 2.4\\% \\\\\n",
      "DeepJet b-tagging scale factors & 0.3\\% \\\\\n",
      "MET unc. & 0.2\\% \\\\\n",
      "Jet energy scale & 8.0\\% \\\\\n",
      "Jet energy resolution & 0.5\\% \\\\\n",
      "Luminosity & 1.6\\% \\\\\n",
      "\\Htobb BR & 1.3\\% \\\\\n",
      "\\hline\n",
      "\\hline\n",
      "\\end{tabular}\n",
      "\\end{center}\n",
      "\\end{table}\n",
      "\n"
     ]
    }
   ],
   "source": [
    "print(SIG_SYSTS_TABLE.to_latex(columns=[\"SR2\"]))"
   ]
  },
  {
   "cell_type": "code",
   "execution_count": 42,
   "id": "1c228917",
   "metadata": {},
   "outputs": [],
   "source": [
    "# \"Datacard\" for SR2 (NOT USED)\n",
    "# datacard_systs = {\n",
    "#     \"TotalBkg\": {\n",
    "#         \"est_syst\": [1.34],\n",
    "#         \"est_stat\": [1.13]\n",
    "#     }\n",
    "# }\n",
    "\n",
    "# datacard_systs[\"VBSWH_mkW\"] = {}\n",
    "# for syst_obj in SIG_SYSTS_LIMIT.systs:\n",
    "#     systs = syst_obj.get_systs()\n",
    "#     datacard_systs[\"VBSWH_mkW\"][syst_obj.name] = [1 + systs[\"SR2\"][0]]\n",
    "    \n",
    "# pred_bkg = vbswh.data_count(selection=\"regionA\")/vbswh.data_count(selection=\"regionB\")*vbswh.data_count(selection=\"regionC\")\n",
    "# datacard = Datacard(\n",
    "#     [int(pred_bkg)],\n",
    "#     {\"VBSWH_mkW\": [vbswh.sig_count(selection=\"SR2\")]},\n",
    "#     {\"TotalBkg\": [pred_bkg]},\n",
    "#     datacard_systs\n",
    "# )\n",
    "    \n",
    "# print(datacard.content)"
   ]
  }
 ],
 "metadata": {
  "kernelspec": {
   "display_name": "Python 3 (ipykernel)",
   "language": "python",
   "name": "python3"
  },
  "language_info": {
   "codemirror_mode": {
    "name": "ipython",
    "version": 3
   },
   "file_extension": ".py",
   "mimetype": "text/x-python",
   "name": "python",
   "nbconvert_exporter": "python",
   "pygments_lexer": "ipython3",
   "version": "3.9.13"
  }
 },
 "nbformat": 4,
 "nbformat_minor": 5
}
