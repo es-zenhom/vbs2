{
 "cells": [
  {
   "cell_type": "code",
   "execution_count": 1,
   "id": "5bf0bf44",
   "metadata": {},
   "outputs": [],
   "source": [
    "import glob\n",
    "import json\n",
    "import numpy as np\n",
    "from utils.analysis import Extrapolation"
   ]
  },
  {
   "cell_type": "code",
   "execution_count": 2,
   "id": "36715425",
   "metadata": {},
   "outputs": [
    {
     "name": "stdout",
     "output_type": "stream",
     "text": [
      "['../analysis/studies/vbswh/output_kscans/Run2/data.root']\n",
      "['../analysis/studies/vbswh/output_kscans/Run2/VBSWH_mkW.root']\n"
     ]
    },
    {
     "data": {
      "text/plain": [
       "['../analysis/studies/vbswh/output_kscans/Run2/VH.root',\n",
       " '../analysis/studies/vbswh/output_kscans/Run2/Bosons.root',\n",
       " '../analysis/studies/vbswh/output_kscans/Run2/TTbar2L.root',\n",
       " '../analysis/studies/vbswh/output_kscans/Run2/TTX.root',\n",
       " '../analysis/studies/vbswh/output_kscans/Run2/EWKWLep.root',\n",
       " '../analysis/studies/vbswh/output_kscans/Run2/SingleTop.root',\n",
       " '../analysis/studies/vbswh/output_kscans/Run2/WJets.root',\n",
       " '../analysis/studies/vbswh/output_kscans/Run2/TTbar1L.root']"
      ]
     },
     "execution_count": 2,
     "metadata": {},
     "output_type": "execute_result"
    }
   ],
   "source": [
    "TAG = \"kscans\"\n",
    "babies = glob.glob(f\"../analysis/studies/vbswh/output_{TAG}/Run2/*.root\")\n",
    "babies = [baby for baby in babies if \"Lambda\" not in baby and \"VBSWH_SM\" not in baby]\n",
    "data_babies = [baby for baby in babies if \"data\" in baby]\n",
    "sig_babies = [baby for baby in babies if \"VBSWH_mkW\" in baby]\n",
    "bkg_babies = list(set(babies) - set(data_babies + sig_babies))\n",
    "print(data_babies)\n",
    "print(sig_babies)\n",
    "bkg_babies"
   ]
  },
  {
   "cell_type": "code",
   "execution_count": 3,
   "id": "68a7a331",
   "metadata": {},
   "outputs": [
    {
     "name": "stderr",
     "output_type": "stream",
     "text": [
      "Loading sig babies: 100%|████████████████████████████████████████████████████████████████████████████████████████████████████████████████████████████████████████████████████████████████████████████████████████████████████████| 1/1 [00:00<00:00,  2.73it/s]\n",
      "Loading bkg babies: 100%|████████████████████████████████████████████████████████████████████████████████████████████████████████████████████████████████████████████████████████████████████████████████████████████████████████| 8/8 [00:42<00:00,  5.31s/it]\n",
      "Loading data babies: 100%|███████████████████████████████████████████████████████████████████████████████████████████████████████████████████████████████████████████████████████████████████████████████████████████████████████| 1/1 [00:01<00:00,  1.11s/it]\n"
     ]
    }
   ],
   "source": [
    "vbswh = Extrapolation(\n",
    "    sig_root_files=sig_babies,\n",
    "    bkg_root_files=bkg_babies,\n",
    "    data_root_files=data_babies,\n",
    "    ttree_name=\"tree\",\n",
    "    weight_columns=[\n",
    "        \"xsec_sf\", \"lep_id_sf\", \"ewkfix_sf\", \n",
    "        \"elec_reco_sf\", \"muon_iso_sf\", \n",
    "        \"btag_sf\", \"pu_sf\", \"prefire_sf\", \"trig_sf\", \"puid_sf\", \n",
    "        \"xbb_sf\" # applied only because Xbb > 0.9 applied everywhere for ABCD\n",
    "    ],\n",
    "    reweight_column=\"reweights\",\n",
    "    plots_dir=f\"/home/users/jguiang/public_html/onelep_plots/{TAG}/val\"\n",
    ")\n",
    "vbswh.df[\"presel_noVBS_noBVeto\"] = vbswh.df.eval(\n",
    "    \"hbbjet_score > 0.3\"\n",
    ")\n",
    "vbswh.df[\"presel_noVBS\"] = vbswh.df.eval(\n",
    "    \"passes_bveto and hbbjet_score > 0.3\"\n",
    ")\n",
    "vbswh.df[\"presel_noDetaJJ\"] = vbswh.df.eval(\n",
    "    \"passes_bveto and M_jj > 500 and hbbjet_score > 0.3\"\n",
    ")\n",
    "vbswh.df[\"presel\"] = vbswh.df.eval(\n",
    "    \"passes_bveto and M_jj > 500 and abs(deta_jj) > 3 and hbbjet_score > 0.3\"\n",
    ")\n",
    "\n",
    "ORIG_EVENT_WEIGHT = vbswh.df.event_weight.values.copy()"
   ]
  },
  {
   "cell_type": "code",
   "execution_count": 4,
   "id": "2028f9ca",
   "metadata": {},
   "outputs": [],
   "source": [
    "SRlike  = \"presel_noDetaJJ and M_jj > 600 and ST > 900 and hbbjet_score > 0.9\"\n",
    "regionA = f\"{SRlike} and abs(deta_jj) > 4 and hbbjet_msoftdrop >= 150\"\n",
    "regionB = f\"{SRlike} and abs(deta_jj) <= 4 and hbbjet_msoftdrop >= 150\"\n",
    "regionC = f\"{SRlike} and abs(deta_jj) <= 4 and hbbjet_msoftdrop < 150\"\n",
    "regionD = f\"{SRlike} and abs(deta_jj) > 4 and hbbjet_msoftdrop < 150\"\n",
    "AN_numbers = {\n",
    "    \"PredBkg\": 0,\n",
    "    \"PredBkgStatErr\": 0,\n",
    "    \"PredBkgSystErr\": 0,\n",
    "    \"ExpSig\": round(vbswh.sig_count(selection=regionD)),\n",
    "    \"ExpSigStatErr\": round(vbswh.sig_error(selection=regionD), 1),\n",
    "    \"ExpSigSystErr\": 0,\n",
    "    \"ExpBkg\": round(vbswh.bkg_count(selection=regionD)),\n",
    "    \"BkgEstABMC\": 0,\n",
    "    \"BkgEstABMCErr\": 0,\n",
    "    \"BkgEstABData\": 0,\n",
    "    \"BkgEstABDataErr\": 0,\n",
    "    \"PredBkgMC\": 0,\n",
    "    \"BkgEstMethodSystErr\": 0,\n",
    "    \"BkgEstBkgCompSystErr\": 0,\n",
    "    \"BkgEstTotalSystErr\": 0,\n",
    "    \"BkgEstStatErr\": 0,\n",
    "    \"BkgEstWJetsUpABMC\": 0,\n",
    "    \"BkgEstWJetsUpABMCErr\": 0,\n",
    "    \"BkgEstWJetsDownABMC\": 0,\n",
    "    \"BkgEstWJetsDownABMCErr\": 0,\n",
    "    \"BkgEstWJetsCompSyst\": 0,\n",
    "    \"BkgEstBosonsUpABMC\": 0,\n",
    "    \"BkgEstBosonsUpABMCErr\": 0,\n",
    "    \"BkgEstBosonsDownABMC\": 0,\n",
    "    \"BkgEstBosonsDownABMCErr\": 0,\n",
    "    \"BkgEstBosonsCompSyst\": 0,\n",
    "    \"SRTwoPredBkg\": 0,\n",
    "    \"SRTwoPredBkgStatErr\": 0,\n",
    "    \"SRTwoPredBkgSystErr\": 0,\n",
    "    \"SRTwoBkgEstStatErr\": 0,\n",
    "    \"SRTwoBkgEstSystErr\": 0,\n",
    "    \"SRTwoExpSig\": round(vbswh.sig_count(selection=f\"{regionD} and ST > 1500\")),\n",
    "    \"SRTwoExpSigStatErr\": round(vbswh.sig_error(selection=f\"{regionD} and ST > 1500\"), 1),\n",
    "    \"SRTwoExpSigSystErr\": 0,\n",
    "    \"LambdaWZeqNegOneExcl\": 0\n",
    "}"
   ]
  },
  {
   "cell_type": "code",
   "execution_count": 5,
   "id": "f0f71384",
   "metadata": {},
   "outputs": [
    {
     "name": "stdout",
     "output_type": "stream",
     "text": [
      "cut,region,bkg_wgt,bkg_err,sig_wgt,sig_err,data,data_err\n",
      "presel_noDetaJJ and M_jj > 600 and ST > 900 and hbbjet_score > 0.9 and abs(deta_jj) > 4 and (not (hbbjet_msoftdrop < 150)),A,172.83836599410463,3.2465338312517833,12.166519202705857,1.516710781384997,142,11.916375287812984\n",
      "presel_noDetaJJ and M_jj > 600 and ST > 900 and hbbjet_score > 0.9 and (not (abs(deta_jj) > 4)) and (not (hbbjet_msoftdrop < 150)),B,241.74523550858504,5.814278818312788,0.9356567222556252,0.42450324891645086,201,14.177446878757825\n",
      "presel_noDetaJJ and M_jj > 600 and ST > 900 and hbbjet_score > 0.9 and (not (abs(deta_jj) > 4)) and hbbjet_msoftdrop < 150,C,180.98316859862283,4.400911486540372,16.700083259792436,1.796365544551971,170,13.038404810405298\n",
      "presel_noDetaJJ and M_jj > 600 and ST > 900 and hbbjet_score > 0.9 and abs(deta_jj) > 4 and hbbjet_msoftdrop < 150,D,116.32589003200601,3.8339893828533667,397.43691975034,8.664565650077654,BLINDED,BLINDED\n",
      "\n",
      "name,extp,rel_err\n",
      "BtoA_MC,0.7149607959407608,0.030517020487771575\n",
      "BtoA_data,0.7064676616915423,0.1096238017003434\n"
     ]
    }
   ],
   "source": [
    "pred, stat, syst = vbswh.ABCD( \n",
    "    \"abs(deta_jj) > 4\",\n",
    "    \"hbbjet_msoftdrop < 150\",\n",
    "    \"presel_noDetaJJ and M_jj > 600 and ST > 900 and hbbjet_score > 0.9\",\n",
    "    h_dir=\"left\", v_dir=\"up\", \n",
    "    show_data=True\n",
    ")\n",
    "AN_numbers[\"PredBkg\"] = round(pred)\n",
    "AN_numbers[\"PredBkgStatErr\"] = round(pred*stat, 1)\n",
    "A_bkg_wgt = vbswh.bkg_count(selection=regionA)\n",
    "A_bkg_err = vbswh.bkg_error(selection=regionA)\n",
    "B_bkg_wgt = vbswh.bkg_count(selection=regionB)\n",
    "B_bkg_err = vbswh.bkg_error(selection=regionB)\n",
    "AN_numbers[\"PredBkgMC\"] = round(A_bkg_wgt/B_bkg_wgt*vbswh.bkg_count(selection=regionC), 1)\n",
    "AN_numbers[\"BkgEstABMC\"] = A_bkg_wgt/B_bkg_wgt\n",
    "AN_numbers[\"BkgEstABMCErr\"] = round(np.sqrt((B_bkg_err/B_bkg_wgt)**2 + (A_bkg_err/A_bkg_wgt)**2)*100, 1)\n",
    "AN_numbers[\"BkgEstMethodSystErr\"] = syst*100\n",
    "AN_numbers[\"BkgEstStatErr\"] = stat*100\n",
    "A_data     = vbswh.data_count(selection=regionA)\n",
    "A_data_err = vbswh.data_error(selection=regionA)\n",
    "B_data     = vbswh.data_count(selection=regionB)\n",
    "B_data_err = vbswh.data_error(selection=regionB)\n",
    "AN_numbers[\"BkgEstABData\"] = A_data/B_data\n",
    "AN_numbers[\"BkgEstABDataErr\"] = round(np.sqrt((B_data_err/B_data)**2 + (A_data_err/A_data)**2)*100, 1)"
   ]
  },
  {
   "cell_type": "code",
   "execution_count": 6,
   "id": "c524a38a",
   "metadata": {},
   "outputs": [
    {
     "name": "stdout",
     "output_type": "stream",
     "text": [
      "Region & Total bkg. (MC) &    Total sig.   &   Total data   \\\\\n",
      "\\hline\n",
      "  A    & $172.8 \\pm 3.2$ & $ 12.2 \\pm 1.5$ & $142 \\pm 11.9$ \\\\\n",
      "  B    & $241.7 \\pm 5.8$ & $  0.9 \\pm 0.4$ & $201 \\pm 14.2$ \\\\\n",
      "  C    & $181.0 \\pm 4.4$ & $ 16.7 \\pm 1.8$ & $170 \\pm 13.0$ \\\\\n",
      "  D    & $116.3 \\pm 3.8$ & $397.4 \\pm 8.7$ &       --       \\\\\n"
     ]
    }
   ],
   "source": [
    "table = \"\"\"cut,region,bkg_wgt,bkg_err,sig_wgt,sig_err,data,data_err\n",
    "presel_noDetaJJ and M_jj > 600 and ST > 900 and hbbjet_score > 0.9 and abs(deta_jj) > 4 and (not (hbbjet_msoftdrop < 150)),A,172.83836599410466,3.2465338312517833,12.166519202705857,1.516710781384997,142,11.916375287812984\n",
    "presel_noDetaJJ and M_jj > 600 and ST > 900 and hbbjet_score > 0.9 and (not (abs(deta_jj) > 4)) and (not (hbbjet_msoftdrop < 150)),B,241.74523550858504,5.814278818312787,0.9356567222556252,0.42450324891645086,201,14.177446878757825\n",
    "presel_noDetaJJ and M_jj > 600 and ST > 900 and hbbjet_score > 0.9 and (not (abs(deta_jj) > 4)) and hbbjet_msoftdrop < 150,C,180.98316859862283,4.400911486540372,16.700083259792436,1.796365544551971,170,13.038404810405298\n",
    "presel_noDetaJJ and M_jj > 600 and ST > 900 and hbbjet_score > 0.9 and abs(deta_jj) > 4 and hbbjet_msoftdrop < 150,D,116.32589003200601,3.833989382853367,397.43691975034,8.664565650077654,BLINDED,BLINDED\n",
    "\"\"\"\n",
    "\n",
    "print(\"Region & Total bkg. (MC) &    Total sig.   &   Total data   \\\\\\\\\")\n",
    "print(\"\\\\hline\")\n",
    "for line in table.splitlines()[1:]:\n",
    "    cut, region, bkg_wgt, bkg_err, sig_wgt, sig_err, data, data_err = line.split(\",\")\n",
    "    bkg_wgt, bkg_err = (float(bkg_wgt), float(bkg_err))\n",
    "    sig_wgt, sig_err = (float(sig_wgt), float(sig_err))\n",
    "    if region == \"D\":\n",
    "        print(f\"{region:^6} & ${bkg_wgt:.1f} \\pm {bkg_err:.1f}$ & ${sig_wgt:.1f} \\pm {sig_err:.1f}$ & {'--':^14} \\\\\\\\\")\n",
    "    else:\n",
    "        data, data_err = (int(data), float(data_err))\n",
    "        print(f\"{region:^6} & ${bkg_wgt:.1f} \\pm {bkg_err:.1f}$ & ${sig_wgt:>5.1f} \\pm {sig_err:.1f}$ & ${data} \\pm {data_err:.1f}$ \\\\\\\\\")"
   ]
  },
  {
   "cell_type": "code",
   "execution_count": 7,
   "id": "eb678e05",
   "metadata": {},
   "outputs": [
    {
     "name": "stdout",
     "output_type": "stream",
     "text": [
      "cut,region,bkg_wgt,bkg_err,sig_wgt,sig_err,data,data_err\n",
      "presel_noDetaJJ and M_jj > 600 and ST > 900 and hbbjet_score > 0.9 and abs(deta_jj) > 4 and (not (hbbjet_msoftdrop < 150)),A,184.11863373459033,3.4788901220731163,12.166519202705857,1.516710781384997,142,11.916375287812984\n",
      "presel_noDetaJJ and M_jj > 600 and ST > 900 and hbbjet_score > 0.9 and (not (abs(deta_jj) > 4)) and (not (hbbjet_msoftdrop < 150)),B,272.278367293264,5.964772315609042,0.9356567222556252,0.42450324891645086,201,14.177446878757825\n",
      "presel_noDetaJJ and M_jj > 600 and ST > 900 and hbbjet_score > 0.9 and (not (abs(deta_jj) > 4)) and hbbjet_msoftdrop < 150,C,223.80855861934674,4.721721880289837,16.700083259792436,1.796365544551971,170,13.038404810405298\n",
      "presel_noDetaJJ and M_jj > 600 and ST > 900 and hbbjet_score > 0.9 and abs(deta_jj) > 4 and hbbjet_msoftdrop < 150,D,137.54055752125072,4.412891202237653,397.43691975034,8.664565650077654,BLINDED,BLINDED\n",
      "\n",
      "name,extp,rel_err\n",
      "BtoA_MC,0.676214697351556,0.02892968041324986\n",
      "BtoA_data,0.7064676616915423,0.1096238017003434\n",
      "\n",
      "cut,region,bkg_wgt,bkg_err,sig_wgt,sig_err,data,data_err\n",
      "presel_noDetaJJ and M_jj > 600 and ST > 900 and hbbjet_score > 0.9 and abs(deta_jj) > 4 and (not (hbbjet_msoftdrop < 150)),A,167.1982321238618,3.1857979026396985,12.166519202705857,1.516710781384997,142,11.916375287812984\n",
      "presel_noDetaJJ and M_jj > 600 and ST > 900 and hbbjet_score > 0.9 and (not (abs(deta_jj) > 4)) and (not (hbbjet_msoftdrop < 150)),B,226.47866961624555,5.776042808626589,0.9356567222556252,0.42450324891645086,201,14.177446878757825\n",
      "presel_noDetaJJ and M_jj > 600 and ST > 900 and hbbjet_score > 0.9 and (not (abs(deta_jj) > 4)) and hbbjet_msoftdrop < 150,C,159.57047358826082,4.316985407868757,16.700083259792436,1.796365544551971,170,13.038404810405298\n",
      "presel_noDetaJJ and M_jj > 600 and ST > 900 and hbbjet_score > 0.9 and abs(deta_jj) > 4 and hbbjet_msoftdrop < 150,D,105.71855628738368,3.6750429989448836,397.43691975034,8.664565650077654,BLINDED,BLINDED\n",
      "\n",
      "name,extp,rel_err\n",
      "BtoA_MC,0.7382515642959627,0.03183542031026706\n",
      "BtoA_data,0.7064676616915423,0.1096238017003434\n"
     ]
    }
   ],
   "source": [
    "vbswh.df.loc[vbswh.df.name == \"WJets\", \"event_weight\"] *= 2\n",
    "vbswh.ABCD( \n",
    "    \"abs(deta_jj) > 4\",\n",
    "    \"hbbjet_msoftdrop < 150\",\n",
    "    \"presel_noDetaJJ and M_jj > 600 and ST > 900 and hbbjet_score > 0.9\",\n",
    "    h_dir=\"left\", v_dir=\"up\", \n",
    "    show_data=True\n",
    ")\n",
    "A_bkg_wgt = vbswh.bkg_count(selection=regionA)\n",
    "A_bkg_err = vbswh.bkg_error(selection=regionA)\n",
    "B_bkg_wgt = vbswh.bkg_count(selection=regionB)\n",
    "B_bkg_err = vbswh.bkg_error(selection=regionB)\n",
    "AN_numbers[\"BkgEstWJetsUpABMC\"] = A_bkg_wgt/B_bkg_wgt\n",
    "AN_numbers[\"BkgEstWJetsUpABMCErr\"] = round(np.sqrt((B_bkg_err/B_bkg_wgt)**2 + (A_bkg_err/A_bkg_wgt)**2)*100, 1)\n",
    "\n",
    "vbswh.df.event_weight = ORIG_EVENT_WEIGHT.copy()\n",
    "print(\"\")\n",
    "\n",
    "vbswh.df.loc[vbswh.df.name == \"WJets\", \"event_weight\"] *= 0.5\n",
    "vbswh.ABCD( \n",
    "    \"abs(deta_jj) > 4\",\n",
    "    \"hbbjet_msoftdrop < 150\",\n",
    "    \"presel_noDetaJJ and M_jj > 600 and ST > 900 and hbbjet_score > 0.9\",\n",
    "    h_dir=\"left\", v_dir=\"up\", \n",
    "    show_data=True\n",
    ")\n",
    "A_bkg_wgt = vbswh.bkg_count(selection=regionA)\n",
    "A_bkg_err = vbswh.bkg_error(selection=regionA)\n",
    "B_bkg_wgt = vbswh.bkg_count(selection=regionB)\n",
    "B_bkg_err = vbswh.bkg_error(selection=regionB)\n",
    "AN_numbers[\"BkgEstWJetsDownABMC\"] = A_bkg_wgt/B_bkg_wgt\n",
    "AN_numbers[\"BkgEstWJetsDownABMCErr\"] = round(np.sqrt((B_bkg_err/B_bkg_wgt)**2 + (A_bkg_err/A_bkg_wgt)**2)*100, 1)\n",
    "AN_numbers[\"BkgEstWJetsCompSyst\"] = 100*max(\n",
    "    abs(1 - AN_numbers[\"BkgEstWJetsUpABMC\"]/AN_numbers[\"BkgEstABMC\"]),\n",
    "    abs(1 - AN_numbers[\"BkgEstWJetsDownABMC\"]/AN_numbers[\"BkgEstABMC\"])\n",
    ")\n",
    "\n",
    "vbswh.df.event_weight = ORIG_EVENT_WEIGHT.copy()"
   ]
  },
  {
   "cell_type": "code",
   "execution_count": 9,
   "id": "79ab83f6",
   "metadata": {},
   "outputs": [
    {
     "name": "stdout",
     "output_type": "stream",
     "text": [
      "cut,region,bkg_wgt,bkg_err,sig_wgt,sig_err,data,data_err\n",
      "presel_noDetaJJ and M_jj > 600 and ST > 900 and hbbjet_score > 0.9 and abs(deta_jj) > 4 and (not (hbbjet_msoftdrop < 150)),A,173.83525942152826,3.4534255278310586,12.166519202705857,1.516710781384997,142,11.916375287812984\n",
      "presel_noDetaJJ and M_jj > 600 and ST > 900 and hbbjet_score > 0.9 and (not (abs(deta_jj) > 4)) and (not (hbbjet_msoftdrop < 150)),B,249.66308515171525,9.969348396019603,0.9356567222556252,0.42450324891645086,201,14.177446878757825\n",
      "presel_noDetaJJ and M_jj > 600 and ST > 900 and hbbjet_score > 0.9 and (not (abs(deta_jj) > 4)) and hbbjet_msoftdrop < 150,C,202.49923020258785,7.162464311778483,16.700083259792436,1.796365544551971,170,13.038404810405298\n",
      "presel_noDetaJJ and M_jj > 600 and ST > 900 and hbbjet_score > 0.9 and abs(deta_jj) > 4 and hbbjet_msoftdrop < 150,D,122.30640806548851,5.967146841301019,397.43691975034,8.664565650077654,BLINDED,BLINDED\n",
      "\n",
      "name,extp,rel_err\n",
      "BtoA_MC,0.6962793851397456,0.04460002834900899\n",
      "BtoA_data,0.7064676616915423,0.1096238017003434\n",
      "\n",
      "cut,region,bkg_wgt,bkg_err,sig_wgt,sig_err,data,data_err\n",
      "presel_noDetaJJ and M_jj > 600 and ST > 900 and hbbjet_score > 0.9 and abs(deta_jj) > 4 and (not (hbbjet_msoftdrop < 150)),A,172.33991928039285,3.192716778506852,12.166519202705857,1.516710781384997,142,11.916375287812984\n",
      "presel_noDetaJJ and M_jj > 600 and ST > 900 and hbbjet_score > 0.9 and (not (abs(deta_jj) > 4)) and (not (hbbjet_msoftdrop < 150)),B,237.78631068701992,4.172567658054963,0.9356567222556252,0.42450324891645086,201,14.177446878757825\n",
      "presel_noDetaJJ and M_jj > 600 and ST > 900 and hbbjet_score > 0.9 and (not (abs(deta_jj) > 4)) and hbbjet_msoftdrop < 150,C,170.2251377966403,3.374137465498202,16.700083259792436,1.796365544551971,170,13.038404810405298\n",
      "presel_noDetaJJ and M_jj > 600 and ST > 900 and hbbjet_score > 0.9 and abs(deta_jj) > 4 and hbbjet_msoftdrop < 150,D,113.33563101526478,3.0777642662130966,397.43691975034,8.664565650077654,BLINDED,BLINDED\n",
      "\n",
      "name,extp,rel_err\n",
      "BtoA_MC,0.7247680439738636,0.025517013086389175\n",
      "BtoA_data,0.7064676616915423,0.1096238017003434\n"
     ]
    }
   ],
   "source": [
    "vbswh.df.loc[vbswh.df.name == \"Bosons\", \"event_weight\"] *= 2\n",
    "vbswh.ABCD( \n",
    "    \"abs(deta_jj) > 4\",\n",
    "    \"hbbjet_msoftdrop < 150\",\n",
    "    \"presel_noDetaJJ and M_jj > 600 and ST > 900 and hbbjet_score > 0.9\",\n",
    "    h_dir=\"left\", v_dir=\"up\", \n",
    "    show_data=True\n",
    ")\n",
    "A_bkg_wgt = vbswh.bkg_count(selection=regionA)\n",
    "A_bkg_err = vbswh.bkg_error(selection=regionA)\n",
    "B_bkg_wgt = vbswh.bkg_count(selection=regionB)\n",
    "B_bkg_err = vbswh.bkg_error(selection=regionB)\n",
    "AN_numbers[\"BkgEstBosonsUpABMC\"] = A_bkg_wgt/B_bkg_wgt\n",
    "AN_numbers[\"BkgEstBosonsUpABMCErr\"] = round(np.sqrt((B_bkg_err/B_bkg_wgt)**2 + (A_bkg_err/A_bkg_wgt)**2)*100, 1)\n",
    "\n",
    "vbswh.df.event_weight = ORIG_EVENT_WEIGHT.copy()\n",
    "print(\"\")\n",
    "\n",
    "vbswh.df.loc[vbswh.df.name == \"Bosons\", \"event_weight\"] *= 0.5\n",
    "vbswh.ABCD( \n",
    "    \"abs(deta_jj) > 4\",\n",
    "    \"hbbjet_msoftdrop < 150\",\n",
    "    \"presel_noDetaJJ and M_jj > 600 and ST > 900 and hbbjet_score > 0.9\",\n",
    "    h_dir=\"left\", v_dir=\"up\", \n",
    "    show_data=True\n",
    ")\n",
    "A_bkg_wgt = vbswh.bkg_count(selection=regionA)\n",
    "A_bkg_err = vbswh.bkg_error(selection=regionA)\n",
    "B_bkg_wgt = vbswh.bkg_count(selection=regionB)\n",
    "B_bkg_err = vbswh.bkg_error(selection=regionB)\n",
    "AN_numbers[\"BkgEstBosonsDownABMC\"] = A_bkg_wgt/B_bkg_wgt\n",
    "AN_numbers[\"BkgEstBosonsDownABMCErr\"] = round(np.sqrt((B_bkg_err/B_bkg_wgt)**2 + (A_bkg_err/A_bkg_wgt)**2)*100, 1)\n",
    "AN_numbers[\"BkgEstBosonsCompSyst\"] = 100*max(\n",
    "    abs(1 - AN_numbers[\"BkgEstBosonsUpABMC\"]/AN_numbers[\"BkgEstABMC\"]),\n",
    "    abs(1 - AN_numbers[\"BkgEstBosonsDownABMC\"]/AN_numbers[\"BkgEstABMC\"])\n",
    ")\n",
    "\n",
    "vbswh.df.event_weight = ORIG_EVENT_WEIGHT.copy()"
   ]
  },
  {
   "cell_type": "code",
   "execution_count": 14,
   "id": "05546611",
   "metadata": {},
   "outputs": [
    {
     "data": {
      "text/plain": [
       "2.612927996483183"
      ]
     },
     "execution_count": 14,
     "metadata": {},
     "output_type": "execute_result"
    }
   ],
   "source": [
    "AN_numbers[\"BkgEstBosonsCompSyst\"]"
   ]
  },
  {
   "cell_type": "code",
   "execution_count": 11,
   "id": "89fb1a68",
   "metadata": {},
   "outputs": [],
   "source": [
    "AN_numbers[\"BkgEstBkgCompSystErr\"] = np.sqrt(\n",
    "    AN_numbers[\"BkgEstWJetsCompSyst\"]**2 + AN_numbers[\"BkgEstBosonsCompSyst\"]**2\n",
    ")\n",
    "AN_numbers[\"BkgEstTotalSystErr\"] = np.sqrt(\n",
    "    AN_numbers[\"BkgEstMethodSystErr\"]**2 + AN_numbers[\"BkgEstBkgCompSystErr\"]**2\n",
    ")"
   ]
  },
  {
   "cell_type": "code",
   "execution_count": 12,
   "id": "d2c26a2f",
   "metadata": {},
   "outputs": [
    {
     "data": {
      "text/plain": [
       "6.0163569634985645"
      ]
     },
     "execution_count": 12,
     "metadata": {},
     "output_type": "execute_result"
    }
   ],
   "source": [
    "AN_numbers[\"BkgEstBkgCompSystErr\"]"
   ]
  },
  {
   "cell_type": "code",
   "execution_count": 10,
   "id": "1dd1a7f2",
   "metadata": {},
   "outputs": [],
   "source": [
    "# SR2 numbers for posterity\n",
    "AN_numbers[\"SRTwoPredBkg\"] = (\n",
    "    AN_numbers[\"PredBkg\"]*vbswh.bkg_count(selection=f\"{regionD} and ST > 1500\")/AN_numbers[\"PredBkgMC\"]\n",
    ")\n",
    "AN_numbers[\"SRTwoBkgEstSystErr\"] = np.sqrt(\n",
    "    (vbswh.data_error(selection=f\"{regionB} and ST > 1500\")/vbswh.data_count(selection=f\"{regionB} and ST > 1500\"))**2\n",
    "    + (AN_numbers[\"BkgEstTotalSystErr\"]/100)**2\n",
    ")\n",
    "AN_numbers[\"SRTwoPredBkgSystErr\"] = round(AN_numbers[\"SRTwoBkgEstSystErr\"]*AN_numbers[\"SRTwoPredBkg\"], 1)\n",
    "AN_numbers[\"SRTwoBkgEstSystErr\"] = round(AN_numbers[\"SRTwoBkgEstSystErr\"]*100, 1)\n",
    "\n",
    "AN_numbers[\"SRTwoBkgEstStatErr\"] = round(AN_numbers[\"BkgEstStatErr\"], 1)\n",
    "AN_numbers[\"SRTwoPredBkgStatErr\"] = round(AN_numbers[\"SRTwoPredBkg\"]*(AN_numbers[\"BkgEstStatErr\"]/100), 1)\n",
    "AN_numbers[\"SRTwoPredBkg\"] = round(AN_numbers[\"SRTwoPredBkg\"])\n",
    "\n",
    "AN_numbers[\"SRTwoExpSig\"] = round(vbswh.sig_count(selection=f\"{regionD} and ST > 1500\"))\n",
    "AN_numbers[\"SRTwoExpSigStatErr\"] = round(vbswh.sig_error(selection=f\"{regionD} and ST > 1500\"), 1)"
   ]
  },
  {
   "cell_type": "code",
   "execution_count": 11,
   "id": "21ffb557",
   "metadata": {},
   "outputs": [],
   "source": [
    "AN_numbers[\"PredBkgSystErr\"] = round(pred*AN_numbers[\"BkgEstTotalSystErr\"]/100, 1)"
   ]
  },
  {
   "cell_type": "code",
   "execution_count": 12,
   "id": "34b54e07",
   "metadata": {},
   "outputs": [],
   "source": [
    "AN_numbers[\"BkgEstABMC\"] = round(AN_numbers[\"BkgEstABMC\"], 2)\n",
    "AN_numbers[\"BkgEstABData\"] = round(AN_numbers[\"BkgEstABData\"], 2)\n",
    "\n",
    "AN_numbers[\"BkgEstWJetsUpABMC\"] = round(AN_numbers[\"BkgEstWJetsUpABMC\"], 2)\n",
    "AN_numbers[\"BkgEstWJetsDownABMC\"] = round(AN_numbers[\"BkgEstWJetsDownABMC\"], 2)\n",
    "AN_numbers[\"BkgEstWJetsCompSyst\"] = round(AN_numbers[\"BkgEstWJetsCompSyst\"], 1)\n",
    "\n",
    "AN_numbers[\"BkgEstBosonsUpABMC\"] = round(AN_numbers[\"BkgEstBosonsUpABMC\"], 2)\n",
    "AN_numbers[\"BkgEstBosonsDownABMC\"] = round(AN_numbers[\"BkgEstBosonsDownABMC\"], 2)\n",
    "AN_numbers[\"BkgEstBosonsCompSyst\"] = round(AN_numbers[\"BkgEstBosonsCompSyst\"], 1)\n",
    "\n",
    "AN_numbers[\"BkgEstBkgCompSystErr\"] = round(AN_numbers[\"BkgEstBkgCompSystErr\"], 1)\n",
    "AN_numbers[\"BkgEstMethodSystErr\"] = round(AN_numbers[\"BkgEstMethodSystErr\"], 1)\n",
    "AN_numbers[\"BkgEstTotalSystErr\"] = round(AN_numbers[\"BkgEstTotalSystErr\"], 1)\n",
    "AN_numbers[\"BkgEstStatErr\"] = round(AN_numbers[\"BkgEstStatErr\"], 1)"
   ]
  },
  {
   "cell_type": "code",
   "execution_count": 13,
   "id": "7dedbec6",
   "metadata": {},
   "outputs": [
    {
     "data": {
      "text/plain": [
       "{'PredBkg': 120,\n",
       " 'PredBkgStatErr': 16.1,\n",
       " 'PredBkgSystErr': 15.3,\n",
       " 'ExpSig': 397,\n",
       " 'ExpSigStatErr': 8.7,\n",
       " 'ExpSigSystErr': 0,\n",
       " 'ExpBkg': 116,\n",
       " 'BkgEstABMC': 0.71,\n",
       " 'BkgEstABMCErr': 3.1,\n",
       " 'BkgEstABData': 0.71,\n",
       " 'BkgEstABDataErr': 11.0,\n",
       " 'PredBkgMC': 129.4,\n",
       " 'BkgEstMethodSystErr': 11.2,\n",
       " 'BkgEstBkgCompSystErr': 6.0,\n",
       " 'BkgEstTotalSystErr': 12.7,\n",
       " 'BkgEstStatErr': 13.4,\n",
       " 'BkgEstWJetsUpABMC': 0.68,\n",
       " 'BkgEstWJetsUpABMCErr': 2.9,\n",
       " 'BkgEstWJetsDownABMC': 0.74,\n",
       " 'BkgEstWJetsDownABMCErr': 3.2,\n",
       " 'BkgEstWJetsCompSyst': 5.4,\n",
       " 'BkgEstBosonsUpABMC': 0.7,\n",
       " 'BkgEstBosonsUpABMCErr': 4.5,\n",
       " 'BkgEstBosonsDownABMC': 0.72,\n",
       " 'BkgEstBosonsDownABMCErr': 2.6,\n",
       " 'BkgEstBosonsCompSyst': 2.6,\n",
       " 'SRTwoPredBkg': 5,\n",
       " 'SRTwoPredBkgStatErr': 0.7,\n",
       " 'SRTwoPredBkgSystErr': 1.9,\n",
       " 'SRTwoBkgEstStatErr': 13.4,\n",
       " 'SRTwoBkgEstSystErr': 35.7,\n",
       " 'SRTwoExpSig': 106,\n",
       " 'SRTwoExpSigStatErr': 4.5,\n",
       " 'SRTwoExpSigSystErr': 0,\n",
       " 'LambdaWZeqNegOneExcl': 0}"
      ]
     },
     "execution_count": 13,
     "metadata": {},
     "output_type": "execute_result"
    }
   ],
   "source": [
    "with open(\"AN_numbers.json\", \"w\") as f_out:\n",
    "    json.dump(AN_numbers, f_out)\n",
    "\n",
    "AN_numbers # must run vbswh-sys.ipynb to fill completely"
   ]
  }
 ],
 "metadata": {
  "kernelspec": {
   "display_name": "Python 3 (ipykernel)",
   "language": "python",
   "name": "python3"
  },
  "language_info": {
   "codemirror_mode": {
    "name": "ipython",
    "version": 3
   },
   "file_extension": ".py",
   "mimetype": "text/x-python",
   "name": "python",
   "nbconvert_exporter": "python",
   "pygments_lexer": "ipython3",
   "version": "3.9.13"
  }
 },
 "nbformat": 4,
 "nbformat_minor": 5
}
