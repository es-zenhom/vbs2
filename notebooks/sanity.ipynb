{
 "cells": [
  {
   "cell_type": "code",
   "execution_count": 1,
   "id": "4abdfd00",
   "metadata": {},
   "outputs": [],
   "source": [
    "import uproot\n",
    "import glob\n",
    "import numpy as np"
   ]
  },
  {
   "cell_type": "code",
   "execution_count": 2,
   "id": "9c1e88aa",
   "metadata": {},
   "outputs": [
    {
     "data": {
      "text/plain": [
       "['../analysis/studies/sanity/output/test_Cutflow.cflow',\n",
       " '../analysis/studies/sanity/output/manual_postskim_Cutflow.cflow',\n",
       " '../analysis/studies/sanity/output/manual_postskim.root']"
      ]
     },
     "execution_count": 2,
     "metadata": {},
     "output_type": "execute_result"
    }
   ],
   "source": [
    "glob.glob(\"../analysis/studies/sanity/output/*\")"
   ]
  },
  {
   "cell_type": "code",
   "execution_count": 3,
   "id": "da8cfdea",
   "metadata": {},
   "outputs": [],
   "source": [
    "with uproot.open(\"../analysis/studies/sanity/output/manual_postskim.root\") as root_file:\n",
    "    rapido_events = root_file.get(\"tree\").get(\"event\").array(library=\"np\")\n",
    "    \n",
    "with uproot.open(\"/ceph/cms/store/user/jguiang/VBSVHSkim/1lep_1ak8_2ak4_postskim/TTTo2L2Nu_TuneCP5_13TeV-powheg-pythia8_RunIISummer20UL18NanoAODv9-106X_upgrade2018_realistic_v16_L1v1-v1_NANOAODSIM_1lep_1ak8_2ak4_postskim/output_1.root\") as root_file:\n",
    "    nanoaodtools_events = root_file.get(\"Events\").get(\"event\").array(library=\"np\")"
   ]
  },
  {
   "cell_type": "code",
   "execution_count": 4,
   "id": "b0acad87",
   "metadata": {},
   "outputs": [
    {
     "data": {
      "text/plain": [
       "array([ 78633123,  78633813,  78070217, ..., 130052332, 130052388,\n",
       "       130052757], dtype=int32)"
      ]
     },
     "execution_count": 4,
     "metadata": {},
     "output_type": "execute_result"
    }
   ],
   "source": [
    "rapido_events"
   ]
  },
  {
   "cell_type": "code",
   "execution_count": 5,
   "id": "a9bfa2ac",
   "metadata": {},
   "outputs": [
    {
     "data": {
      "text/plain": [
       "array([ 78633123,  78633813,  78070217, ..., 130052332, 130052388,\n",
       "       130052757], dtype=uint64)"
      ]
     },
     "execution_count": 5,
     "metadata": {},
     "output_type": "execute_result"
    }
   ],
   "source": [
    "nanoaodtools_events"
   ]
  },
  {
   "cell_type": "code",
   "execution_count": 6,
   "id": "5cb7dc5e",
   "metadata": {},
   "outputs": [
    {
     "data": {
      "text/plain": [
       "array([], dtype=int32)"
      ]
     },
     "execution_count": 6,
     "metadata": {},
     "output_type": "execute_result"
    }
   ],
   "source": [
    "rapido_events[~np.isin(rapido_events, nanoaodtools_events)]"
   ]
  },
  {
   "cell_type": "code",
   "execution_count": 7,
   "id": "af80bd15",
   "metadata": {},
   "outputs": [
    {
     "data": {
      "text/plain": [
       "array([], dtype=uint64)"
      ]
     },
     "execution_count": 7,
     "metadata": {},
     "output_type": "execute_result"
    }
   ],
   "source": [
    "nanoaodtools_events[~np.isin(nanoaodtools_events, rapido_events)]"
   ]
  }
 ],
 "metadata": {
  "kernelspec": {
   "display_name": "Python 3 (ipykernel)",
   "language": "python",
   "name": "python3"
  },
  "language_info": {
   "codemirror_mode": {
    "name": "ipython",
    "version": 3
   },
   "file_extension": ".py",
   "mimetype": "text/x-python",
   "name": "python",
   "nbconvert_exporter": "python",
   "pygments_lexer": "ipython3",
   "version": "3.9.12"
  }
 },
 "nbformat": 4,
 "nbformat_minor": 5
}
