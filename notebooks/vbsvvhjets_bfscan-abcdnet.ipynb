{
 "cells": [
  {
   "cell_type": "code",
   "execution_count": 1,
   "id": "166865c5",
   "metadata": {},
   "outputs": [
    {
     "name": "stderr",
     "output_type": "stream",
     "text": [
      "/home/users/jguiang/apps/miniconda3/envs/analysis/lib/python3.9/site-packages/xgboost/compat.py:36: FutureWarning: pandas.Int64Index is deprecated and will be removed from pandas in a future version. Use pandas.Index with the appropriate dtype instead.\n",
      "  from pandas import MultiIndex, Int64Index\n"
     ]
    }
   ],
   "source": [
    "import matplotlib.pyplot as plt\n",
    "import numpy as np\n",
    "import pandas as pd\n",
    "import warnings\n",
    "warnings.simplefilter(action=\"ignore\", category=pd.errors.PerformanceWarning)\n",
    "import glob\n",
    "import itertools\n",
    "\n",
    "from sklearn.ensemble import GradientBoostingClassifier\n",
    "from sklearn.metrics import roc_curve\n",
    "from tqdm import tqdm\n",
    "import xgboost as xgb #BDT\n",
    "import pickle\n",
    "import mplhep as hep\n",
    "\n",
    "import concurrent.futures as futures\n",
    "\n",
    "from utils.analysis import Optimization, PandasAnalysis\n",
    "\n",
    "TAG = \"abcdnet\""
   ]
  },
  {
   "cell_type": "code",
   "execution_count": 2,
   "id": "4137dc9b",
   "metadata": {},
   "outputs": [
    {
     "name": "stdout",
     "output_type": "stream",
     "text": [
      "Signal:\n",
      "../analysis/studies/vbsvvhjets/output_abcdnet/Run2/VBSVVH.root\n",
      "Background:\n",
      "../analysis/studies/vbsvvhjets/output_abcdnet/Run2/Bosons.root\n",
      "../analysis/studies/vbsvvhjets/output_abcdnet/Run2/QCD.root\n",
      "../analysis/studies/vbsvvhjets/output_abcdnet/Run2/SingleTop.root\n",
      "../analysis/studies/vbsvvhjets/output_abcdnet/Run2/TT1L.root\n",
      "../analysis/studies/vbsvvhjets/output_abcdnet/Run2/TTH.root\n",
      "../analysis/studies/vbsvvhjets/output_abcdnet/Run2/TTHad.root\n",
      "../analysis/studies/vbsvvhjets/output_abcdnet/Run2/TTW.root\n",
      "Data:\n",
      "../analysis/studies/vbsvvhjets/output_abcdnet/Run2/data.root\n"
     ]
    }
   ],
   "source": [
    "babies = sorted(glob.glob(f\"../analysis/studies/vbsvvhjets/output_{TAG}/Run2/*.root\"))\n",
    "sig_babies = [baby for baby in babies if \"VBS\" in baby]\n",
    "bkg_babies = [baby for baby in babies if \"VBS\" not in baby and \"data\" not in baby]\n",
    "data_babies = [baby for baby in babies if \"data\" in baby]\n",
    "print(\"Signal:\")\n",
    "print(\"\\n\".join(sig_babies))\n",
    "print(\"Background:\")\n",
    "print(\"\\n\".join(bkg_babies))\n",
    "print(\"Data:\")\n",
    "print(\"\\n\".join(data_babies))"
   ]
  },
  {
   "cell_type": "code",
   "execution_count": 3,
   "id": "61162cde",
   "metadata": {},
   "outputs": [
    {
     "name": "stderr",
     "output_type": "stream",
     "text": [
      "Loading sig babies: 100%|████████████████████████████████████████████████████████████████████████████████████████████████████████████████████████████████████████████████████████████████████████████████████████████████████████| 1/1 [00:01<00:00,  1.68s/it]\n",
      "Loading bkg babies: 100%|████████████████████████████████████████████████████████████████████████████████████████████████████████████████████████████████████████████████████████████████████████████████████████████████████████| 7/7 [00:04<00:00,  1.56it/s]\n",
      "Loading data babies: 100%|███████████████████████████████████████████████████████████████████████████████████████████████████████████████████████████████████████████████████████████████████████████████████████████████████████| 1/1 [00:00<00:00,  1.43it/s]\n"
     ]
    }
   ],
   "source": [
    "vbsvvh = Optimization(\n",
    "    sig_root_files=sig_babies,\n",
    "    bkg_root_files=bkg_babies,\n",
    "    data_root_files=data_babies,\n",
    "    ttree_name=\"tree\",\n",
    "    weight_columns=[\n",
    "        \"xsec_sf\", \n",
    "        \"pu_sf\",\n",
    "        \"prefire_sf\"\n",
    "    ]\n",
    ")\n",
    "\n",
    "vbsvvh.df[\"obj_sel\"] = True\n",
    "# vbsvvh.df[\"qcdnorm_CR\"] = vbsvvh.df.eval(\n",
    "#     \"obj_sel and hbbfatjet_xbb > 0.1 and ld_vqqfatjet_xwqq > 0.5 and tr_vqqfatjet_xwqq > 0.5\"\n",
    "# )\n",
    "# vbsvvh.make_selection(\"qcdnorm_CR\")\n",
    "\n",
    "bkg_count = vbsvvh.bkg_count()\n",
    "qcd_count = vbsvvh.sample_count(\"QCD\")\n",
    "data_count = vbsvvh.data_count()\n",
    "\n",
    "vbsvvh.df.loc[vbsvvh.df.name == \"QCD\", \"event_weight\"] *= (data_count - (bkg_count - qcd_count))/(qcd_count)"
   ]
  },
  {
   "cell_type": "code",
   "execution_count": 13,
   "id": "e3a02448",
   "metadata": {},
   "outputs": [
    {
     "name": "stderr",
     "output_type": "stream",
     "text": [
      "100%|██████████████████████████████████████████████████████████████████████████████████████████████████████████████████████████████████████████████████████████████████████████████████████████████████████████████████████| 7128/7128 [06:31<00:00, 18.20it/s]\n"
     ]
    }
   ],
   "source": [
    "# vbsvvh.make_selection(\"abs(deta_jj) > 4\")\n",
    "\n",
    "scans = {\n",
    "#     \"abcdnet_score\": np.linspace(0.89, 0.99, 11),\n",
    "    \"abcdnet_score\": np.linspace(0.87, 0.97, 11),\n",
    "    \"hbbfatjet_xbb\": np.linspace(0.5, 0.8, 6),\n",
    "    \"ld_vqqfatjet_xwqq\": np.linspace(0.5, 0.8, 6),\n",
    "    \"tr_vqqfatjet_xwqq\": np.linspace(0.5, 0.8, 6),\n",
    "    \"abs_deta_jj\": [3, 3.5, 4]\n",
    "}\n",
    "\n",
    "cuts = {}\n",
    "for var, wps in scans.items():\n",
    "    cuts[var] = []\n",
    "    for wp in wps:\n",
    "        cuts[var].append(f\"{var} > {wp}\")\n",
    "\n",
    "selections = [\" and \".join(combo) for combo in itertools.product(*cuts.values())]\n",
    "\n",
    "fom = lambda S, B: S/np.sqrt(max(B, 0.0001))\n",
    "            \n",
    "results = []\n",
    "for sel in tqdm(selections):\n",
    "    sig, bkg = vbsvvh.get_event_counts(selection=sel)\n",
    "    results.append((sel, sig, bkg, fom(sig, bkg)))"
   ]
  },
  {
   "cell_type": "code",
   "execution_count": 4,
   "id": "0afdd0fb",
   "metadata": {},
   "outputs": [
    {
     "name": "stderr",
     "output_type": "stream",
     "text": [
      "100%|██████████████████████████████████████████████████████████████████████████████████████████████████████████████████████████████████████████████████████████████████████████████████████████████████████████████████████| 7776/7776 [06:07<00:00, 21.16it/s]\n"
     ]
    }
   ],
   "source": [
    "scans = {\n",
    "    \"abcdnet_score1\": np.linspace(0.79, 0.99, 6),\n",
    "    \"abcdnet_score2\": np.linspace(0.79, 0.99, 6),\n",
    "    \"hbbfatjet_xbb\": np.linspace(0.5, 0.8, 6),\n",
    "    \"ld_vqqfatjet_xwqq\": np.linspace(0.5, 0.8, 6),\n",
    "    \"tr_vqqfatjet_xwqq\": np.linspace(0.5, 0.8, 6),\n",
    "}\n",
    "\n",
    "cuts = {}\n",
    "for var, wps in scans.items():\n",
    "    cuts[var] = []\n",
    "    for wp in wps:\n",
    "        cuts[var].append(f\"{var} > {wp}\")\n",
    "\n",
    "selections = [\" and \".join(combo) for combo in itertools.product(*cuts.values())]\n",
    "\n",
    "fom = lambda S, B: S/np.sqrt(B) if B > 0 else S/np.sqrt(0.0001)\n",
    "            \n",
    "results = []\n",
    "for sel in tqdm(selections):\n",
    "    sig, bkg = vbsvvh.get_event_counts(selection=sel)\n",
    "    results.append((sel, sig, bkg, fom(sig, bkg)))"
   ]
  },
  {
   "cell_type": "code",
   "execution_count": 5,
   "id": "65f9cd40",
   "metadata": {},
   "outputs": [],
   "source": [
    "results_df = pd.DataFrame(\n",
    "    {\n",
    "        \"selection\": [r[0] for r in results],\n",
    "        \"sig\": [r[1] for r in results],\n",
    "        \"bkg\": [r[2] for r in results],\n",
    "        \"fom\": [r[3] for r in results]\n",
    "    }\n",
    ")"
   ]
  },
  {
   "cell_type": "code",
   "execution_count": 16,
   "id": "60d413fe",
   "metadata": {},
   "outputs": [
    {
     "data": {
      "text/html": [
       "<div>\n",
       "<style scoped>\n",
       "    .dataframe tbody tr th:only-of-type {\n",
       "        vertical-align: middle;\n",
       "    }\n",
       "\n",
       "    .dataframe tbody tr th {\n",
       "        vertical-align: top;\n",
       "    }\n",
       "\n",
       "    .dataframe thead th {\n",
       "        text-align: right;\n",
       "    }\n",
       "</style>\n",
       "<table border=\"1\" class=\"dataframe\">\n",
       "  <thead>\n",
       "    <tr style=\"text-align: right;\">\n",
       "      <th></th>\n",
       "      <th>selection</th>\n",
       "      <th>sig</th>\n",
       "      <th>bkg</th>\n",
       "      <th>fom</th>\n",
       "    </tr>\n",
       "  </thead>\n",
       "  <tbody>\n",
       "    <tr>\n",
       "      <th>2762</th>\n",
       "      <td>abcdnet_score1 &gt; 0.87 and abcdnet_score2 &gt; 0.7...</td>\n",
       "      <td>4.556552</td>\n",
       "      <td>1.519526</td>\n",
       "      <td>3.696428</td>\n",
       "    </tr>\n",
       "    <tr>\n",
       "      <th>2906</th>\n",
       "      <td>abcdnet_score1 &gt; 0.87 and abcdnet_score2 &gt; 0.8...</td>\n",
       "      <td>4.530361</td>\n",
       "      <td>1.520735</td>\n",
       "      <td>3.673720</td>\n",
       "    </tr>\n",
       "    <tr>\n",
       "      <th>2726</th>\n",
       "      <td>abcdnet_score1 &gt; 0.87 and abcdnet_score2 &gt; 0.7...</td>\n",
       "      <td>4.630198</td>\n",
       "      <td>1.701724</td>\n",
       "      <td>3.549400</td>\n",
       "    </tr>\n",
       "    <tr>\n",
       "      <th>1718</th>\n",
       "      <td>abcdnet_score1 &gt; 0.8300000000000001 and abcdne...</td>\n",
       "      <td>4.501235</td>\n",
       "      <td>1.608317</td>\n",
       "      <td>3.549326</td>\n",
       "    </tr>\n",
       "    <tr>\n",
       "      <th>1503</th>\n",
       "      <td>abcdnet_score1 &gt; 0.8300000000000001 and abcdne...</td>\n",
       "      <td>4.508406</td>\n",
       "      <td>1.650642</td>\n",
       "      <td>3.509106</td>\n",
       "    </tr>\n",
       "    <tr>\n",
       "      <th>2691</th>\n",
       "      <td>abcdnet_score1 &gt; 0.87 and abcdnet_score2 &gt; 0.7...</td>\n",
       "      <td>4.518579</td>\n",
       "      <td>1.659645</td>\n",
       "      <td>3.507473</td>\n",
       "    </tr>\n",
       "    <tr>\n",
       "      <th>2686</th>\n",
       "      <td>abcdnet_score1 &gt; 0.87 and abcdnet_score2 &gt; 0.7...</td>\n",
       "      <td>4.506239</td>\n",
       "      <td>1.674410</td>\n",
       "      <td>3.482438</td>\n",
       "    </tr>\n",
       "    <tr>\n",
       "      <th>566</th>\n",
       "      <td>abcdnet_score1 &gt; 0.79 and abcdnet_score2 &gt; 0.8...</td>\n",
       "      <td>4.510570</td>\n",
       "      <td>1.714965</td>\n",
       "      <td>3.444323</td>\n",
       "    </tr>\n",
       "    <tr>\n",
       "      <th>141</th>\n",
       "      <td>abcdnet_score1 &gt; 0.79 and abcdnet_score2 &gt; 0.7...</td>\n",
       "      <td>4.526477</td>\n",
       "      <td>1.761240</td>\n",
       "      <td>3.410759</td>\n",
       "    </tr>\n",
       "    <tr>\n",
       "      <th>632</th>\n",
       "      <td>abcdnet_score1 &gt; 0.79 and abcdnet_score2 &gt; 0.8...</td>\n",
       "      <td>4.547727</td>\n",
       "      <td>1.788710</td>\n",
       "      <td>3.400356</td>\n",
       "    </tr>\n",
       "    <tr>\n",
       "      <th>2793</th>\n",
       "      <td>abcdnet_score1 &gt; 0.87 and abcdnet_score2 &gt; 0.7...</td>\n",
       "      <td>4.511667</td>\n",
       "      <td>1.771414</td>\n",
       "      <td>3.389823</td>\n",
       "    </tr>\n",
       "    <tr>\n",
       "      <th>1502</th>\n",
       "      <td>abcdnet_score1 &gt; 0.8300000000000001 and abcdne...</td>\n",
       "      <td>4.673817</td>\n",
       "      <td>1.902738</td>\n",
       "      <td>3.388303</td>\n",
       "    </tr>\n",
       "    <tr>\n",
       "      <th>207</th>\n",
       "      <td>abcdnet_score1 &gt; 0.79 and abcdnet_score2 &gt; 0.7...</td>\n",
       "      <td>4.620237</td>\n",
       "      <td>1.874019</td>\n",
       "      <td>3.375027</td>\n",
       "    </tr>\n",
       "    <tr>\n",
       "      <th>202</th>\n",
       "      <td>abcdnet_score1 &gt; 0.79 and abcdnet_score2 &gt; 0.7...</td>\n",
       "      <td>4.591190</td>\n",
       "      <td>1.866809</td>\n",
       "      <td>3.360279</td>\n",
       "    </tr>\n",
       "    <tr>\n",
       "      <th>1861</th>\n",
       "      <td>abcdnet_score1 &gt; 0.8300000000000001 and abcdne...</td>\n",
       "      <td>4.529819</td>\n",
       "      <td>1.829647</td>\n",
       "      <td>3.348862</td>\n",
       "    </tr>\n",
       "  </tbody>\n",
       "</table>\n",
       "</div>"
      ],
      "text/plain": [
       "                                              selection       sig       bkg  \\\n",
       "2762  abcdnet_score1 > 0.87 and abcdnet_score2 > 0.7...  4.556552  1.519526   \n",
       "2906  abcdnet_score1 > 0.87 and abcdnet_score2 > 0.8...  4.530361  1.520735   \n",
       "2726  abcdnet_score1 > 0.87 and abcdnet_score2 > 0.7...  4.630198  1.701724   \n",
       "1718  abcdnet_score1 > 0.8300000000000001 and abcdne...  4.501235  1.608317   \n",
       "1503  abcdnet_score1 > 0.8300000000000001 and abcdne...  4.508406  1.650642   \n",
       "2691  abcdnet_score1 > 0.87 and abcdnet_score2 > 0.7...  4.518579  1.659645   \n",
       "2686  abcdnet_score1 > 0.87 and abcdnet_score2 > 0.7...  4.506239  1.674410   \n",
       "566   abcdnet_score1 > 0.79 and abcdnet_score2 > 0.8...  4.510570  1.714965   \n",
       "141   abcdnet_score1 > 0.79 and abcdnet_score2 > 0.7...  4.526477  1.761240   \n",
       "632   abcdnet_score1 > 0.79 and abcdnet_score2 > 0.8...  4.547727  1.788710   \n",
       "2793  abcdnet_score1 > 0.87 and abcdnet_score2 > 0.7...  4.511667  1.771414   \n",
       "1502  abcdnet_score1 > 0.8300000000000001 and abcdne...  4.673817  1.902738   \n",
       "207   abcdnet_score1 > 0.79 and abcdnet_score2 > 0.7...  4.620237  1.874019   \n",
       "202   abcdnet_score1 > 0.79 and abcdnet_score2 > 0.7...  4.591190  1.866809   \n",
       "1861  abcdnet_score1 > 0.8300000000000001 and abcdne...  4.529819  1.829647   \n",
       "\n",
       "           fom  \n",
       "2762  3.696428  \n",
       "2906  3.673720  \n",
       "2726  3.549400  \n",
       "1718  3.549326  \n",
       "1503  3.509106  \n",
       "2691  3.507473  \n",
       "2686  3.482438  \n",
       "566   3.444323  \n",
       "141   3.410759  \n",
       "632   3.400356  \n",
       "2793  3.389823  \n",
       "1502  3.388303  \n",
       "207   3.375027  \n",
       "202   3.360279  \n",
       "1861  3.348862  "
      ]
     },
     "execution_count": 16,
     "metadata": {},
     "output_type": "execute_result"
    }
   ],
   "source": [
    "results_df[(results_df.sig > 4.5) & (results_df.bkg > 0)].sort_values(\"fom\", ascending=False)[:15]"
   ]
  },
  {
   "cell_type": "code",
   "execution_count": 17,
   "id": "5a565be2",
   "metadata": {},
   "outputs": [
    {
     "data": {
      "text/plain": [
       "'abcdnet_score1 > 0.87 and abcdnet_score2 > 0.79 and hbbfatjet_xbb > 0.74 and ld_vqqfatjet_xwqq > 0.74 and tr_vqqfatjet_xwqq > 0.62'"
      ]
     },
     "execution_count": 17,
     "metadata": {},
     "output_type": "execute_result"
    }
   ],
   "source": [
    "bf_SR = results_df[(results_df.sig > 4.5) & (results_df.bkg > 0)].sort_values(\"fom\", ascending=False)[:15].selection.values[0]\n",
    "bf_SR"
   ]
  },
  {
   "cell_type": "code",
   "execution_count": 25,
   "id": "52d36b39",
   "metadata": {},
   "outputs": [
    {
     "name": "stdout",
     "output_type": "stream",
     "text": [
      "Signal:     3.003478457899269 +- 0.04881406858149049\n",
      "Background: 0.7923911260720186 +- 0.3329195450133814\n"
     ]
    }
   ],
   "source": [
    "bf_rounded_SR = \"abcdnet_score > 0.98 and hbbfatjet_xbb > 0.75 and ld_vqqfatjet_xwqq > 0.70 and tr_vqqfatjet_xwqq > 0.75 and abs_deta_jj > 3.5\"\n",
    "# bf_rounded_SR = \"bdt > 0.8 and hbbfatjet_xbb > 0.6 and ld_vqqfatjet_xwqq > 0.7 and tr_vqqfatjet_xwqq > 0.7\"\n",
    "sig_count, bkg_count = vbsvvh.get_event_counts(bf_rounded_SR)\n",
    "sig_error, bkg_error = vbsvvh.get_event_errors(bf_rounded_SR)\n",
    "print(f\"Signal:     {sig_count} +- {sig_error}\")\n",
    "print(f\"Background: {bkg_count} +- {bkg_error}\")"
   ]
  },
  {
   "cell_type": "code",
   "execution_count": 24,
   "id": "481b129e",
   "metadata": {},
   "outputs": [
    {
     "name": "stdout",
     "output_type": "stream",
     "text": [
      "Signal:     4.520915432929149 +- 0.05940794069761585\n",
      "Background: 1.3806090251954204 +- 0.38890145375643526\n"
     ]
    }
   ],
   "source": [
    "bf_rounded_SR = \"abcdnet_score1 > 0.87 and abcdnet_score2 > 0.8 and hbbfatjet_xbb > 0.74 and ld_vqqfatjet_xwqq > 0.74 and tr_vqqfatjet_xwqq > 0.62\"\n",
    "# bf_rounded_SR = \"bdt > 0.8 and hbbfatjet_xbb > 0.6 and ld_vqqfatjet_xwqq > 0.7 and tr_vqqfatjet_xwqq > 0.7\"\n",
    "sig_count, bkg_count = vbsvvh.get_event_counts(bf_rounded_SR)\n",
    "sig_error, bkg_error = vbsvvh.get_event_errors(bf_rounded_SR)\n",
    "print(f\"Signal:     {sig_count} +- {sig_error}\")\n",
    "print(f\"Background: {bkg_count} +- {bkg_error}\")"
   ]
  },
  {
   "cell_type": "code",
   "execution_count": 49,
   "id": "41f744b2",
   "metadata": {},
   "outputs": [
    {
     "data": {
      "text/plain": [
       "'bdt > 0.74 and hbbfatjet_xbb > 0.58 and ld_vqqfatjet_xwqq > 0.62 and tr_vqqfatjet_xwqq > 0.66'"
      ]
     },
     "execution_count": 49,
     "metadata": {},
     "output_type": "execute_result"
    }
   ],
   "source": [
    "bf_SR = results_df[(results_df.sig > 5) & (results_df.bkg > 0)].sort_values(\"fom\", ascending=False)[:15].selection.values[1]\n",
    "bf_SR"
   ]
  },
  {
   "cell_type": "code",
   "execution_count": 50,
   "id": "5784fdea",
   "metadata": {},
   "outputs": [
    {
     "name": "stdout",
     "output_type": "stream",
     "text": [
      "Signal:     5.0135211002373286 +- 0.06309293035494924\n",
      "Background: 1.1027211115484759 +- 0.3359880041887074\n"
     ]
    }
   ],
   "source": [
    "bf_rounded_SR = \"bdt > 0.75 and hbbfatjet_xbb > 0.6 and ld_vqqfatjet_xwqq > 0.6 and tr_vqqfatjet_xwqq > 0.65\"\n",
    "sig_count, bkg_count = vbsvvh.get_event_counts(bf_rounded_SR)\n",
    "sig_error, bkg_error = vbsvvh.get_event_errors(bf_rounded_SR)\n",
    "print(f\"Signal:     {sig_count} +- {sig_error}\")\n",
    "print(f\"Background: {bkg_count} +- {bkg_error}\")"
   ]
  },
  {
   "cell_type": "code",
   "execution_count": 20,
   "id": "f40a93d1",
   "metadata": {},
   "outputs": [],
   "source": [
    "# vbsvvh.df[\"SR\"] = vbsvvh.df.eval(bf_rounded_SR)\n",
    "\n",
    "# vbsvvh.make_selection(\"SR\")\n",
    "# update_cutflows(\"SR\")\n",
    "\n",
    "# cutflows.reorder([\"QCD\", \"TTHad\", \"TT1L\", \"TTW\", \"TTH\", \"SingleTop\", \"Bosons\", \"TotalBkg\", \"VBSVVH\"])\n",
    "# cutflows.write_csv(\"test.csv\", cutflows.terminal_cut_names[-1])"
   ]
  }
 ],
 "metadata": {
  "kernelspec": {
   "display_name": "Python 3 (ipykernel)",
   "language": "python",
   "name": "python3"
  },
  "language_info": {
   "codemirror_mode": {
    "name": "ipython",
    "version": 3
   },
   "file_extension": ".py",
   "mimetype": "text/x-python",
   "name": "python",
   "nbconvert_exporter": "python",
   "pygments_lexer": "ipython3",
   "version": "3.9.13"
  }
 },
 "nbformat": 4,
 "nbformat_minor": 5
}
