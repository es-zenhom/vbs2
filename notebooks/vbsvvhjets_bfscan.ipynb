{
 "cells": [
  {
   "cell_type": "code",
   "execution_count": 2,
   "id": "166865c5",
   "metadata": {},
   "outputs": [
    {
     "name": "stderr",
     "output_type": "stream",
     "text": [
      "/home/users/jguiang/apps/miniconda3/envs/analysis/lib/python3.9/site-packages/xgboost/compat.py:36: FutureWarning: pandas.Int64Index is deprecated and will be removed from pandas in a future version. Use pandas.Index with the appropriate dtype instead.\n",
      "  from pandas import MultiIndex, Int64Index\n"
     ]
    }
   ],
   "source": [
    "import matplotlib.pyplot as plt\n",
    "import numpy as np\n",
    "import pandas as pd\n",
    "import warnings\n",
    "warnings.simplefilter(action=\"ignore\", category=pd.errors.PerformanceWarning)\n",
    "import glob\n",
    "import itertools\n",
    "\n",
    "from sklearn.ensemble import GradientBoostingClassifier\n",
    "from sklearn.metrics import roc_curve\n",
    "from tqdm import tqdm\n",
    "import xgboost as xgb #BDT\n",
    "import pickle\n",
    "import mplhep as hep\n",
    "\n",
    "import concurrent.futures as futures\n",
    "\n",
    "from utils.analysis import Optimization, PandasAnalysis\n",
    "\n",
    "TAG = \"pnetfix\""
   ]
  },
  {
   "cell_type": "code",
   "execution_count": 3,
   "id": "4137dc9b",
   "metadata": {},
   "outputs": [
    {
     "name": "stdout",
     "output_type": "stream",
     "text": [
      "Signal:\n",
      "../analysis/studies/vbsvvhjets/output_pnetfix/Run2/VBSVVH.root\n",
      "Background:\n",
      "../analysis/studies/vbsvvhjets/output_pnetfix/Run2/Bosons.root\n",
      "../analysis/studies/vbsvvhjets/output_pnetfix/Run2/QCD.root\n",
      "../analysis/studies/vbsvvhjets/output_pnetfix/Run2/SingleTop.root\n",
      "../analysis/studies/vbsvvhjets/output_pnetfix/Run2/TT1L.root\n",
      "../analysis/studies/vbsvvhjets/output_pnetfix/Run2/TTH.root\n",
      "../analysis/studies/vbsvvhjets/output_pnetfix/Run2/TTHad.root\n",
      "../analysis/studies/vbsvvhjets/output_pnetfix/Run2/TTW.root\n",
      "Data:\n",
      "../analysis/studies/vbsvvhjets/output_pnetfix/Run2/data.root\n"
     ]
    }
   ],
   "source": [
    "babies = sorted(glob.glob(f\"../analysis/studies/vbsvvhjets/output_{TAG}/Run2/*.root\"))\n",
    "sig_babies = [baby for baby in babies if \"VBS\" in baby]\n",
    "bkg_babies = [baby for baby in babies if \"VBS\" not in baby and \"data\" not in baby]\n",
    "data_babies = [baby for baby in babies if \"data\" in baby]\n",
    "print(\"Signal:\")\n",
    "print(\"\\n\".join(sig_babies))\n",
    "print(\"Background:\")\n",
    "print(\"\\n\".join(bkg_babies))\n",
    "print(\"Data:\")\n",
    "print(\"\\n\".join(data_babies))"
   ]
  },
  {
   "cell_type": "code",
   "execution_count": 23,
   "id": "61162cde",
   "metadata": {},
   "outputs": [
    {
     "name": "stderr",
     "output_type": "stream",
     "text": [
      "Loading sig babies: 100%|████████████████████████████████████████████████████████████████████████████████████████████████████████████████████████████████████████████████████████████████████████████████| 1/1 [00:00<00:00,  1.08it/s]\n",
      "Loading bkg babies: 100%|████████████████████████████████████████████████████████████████████████████████████████████████████████████████████████████████████████████████████████████████████████████████| 7/7 [00:09<00:00,  1.41s/it]\n",
      "Loading data babies: 100%|███████████████████████████████████████████████████████████████████████████████████████████████████████████████████████████████████████████████████████████████████████████████| 1/1 [00:02<00:00,  2.47s/it]\n",
      "/home/users/jguiang/apps/miniconda3/envs/analysis/lib/python3.9/site-packages/xgboost/data.py:262: FutureWarning: pandas.Int64Index is deprecated and will be removed from pandas in a future version. Use pandas.Index with the appropriate dtype instead.\n",
      "  elif isinstance(data.columns, (pd.Int64Index, pd.RangeIndex)):\n"
     ]
    }
   ],
   "source": [
    "vbsvvh = Optimization(\n",
    "    sig_root_files=sig_babies,\n",
    "    bkg_root_files=bkg_babies,\n",
    "    data_root_files=data_babies,\n",
    "    ttree_name=\"tree\",\n",
    "    weight_columns=[\n",
    "        \"xsec_sf\", \n",
    "        \"pu_sf\",\n",
    "        \"prefire_sf\"\n",
    "    ]\n",
    ")\n",
    "\n",
    "vbsvvh.df[\"objsel\"] = True\n",
    "vbsvvh.df[\"presel\"] = vbsvvh.df.eval(\n",
    "    \"objsel and hbbfatjet_xbb > 0.5 and ld_vqqfatjet_xwqq > 0.3 and tr_vqqfatjet_xwqq > 0.3\"\n",
    ")\n",
    "vbsvvh.make_selection(\"presel\")\n",
    "\n",
    "bkg_count = vbsvvh.bkg_count()\n",
    "qcd_count = vbsvvh.sample_count(\"QCD\")\n",
    "data_count = vbsvvh.data_count()\n",
    "\n",
    "vbsvvh.df.loc[vbsvvh.df.name == \"QCD\", \"event_weight\"] *= (data_count - (bkg_count - qcd_count))/(qcd_count)\n",
    "\n",
    "\n",
    "# vbsvvh.df[\"bdt_presel\"] = vbsvvh.df.eval(\n",
    "#     \"M_jj > 500 and abs(deta_jj) > 3\"\n",
    "#     + \"and hbbfatjet_xbb > 0.5\"\n",
    "#     + \"and ld_vqqfatjet_xwqq > 0.5 and tr_vqqfatjet_xwqq > 0.5\"\n",
    "#     + \"and ST > 1300\"\n",
    "#     + \"and hbbfatjet_mass < 150\"\n",
    "#     + \"and ld_vqqfatjet_mass < 120 and tr_vqqfatjet_mass < 120\"\n",
    "# )\n",
    "# vbsvvh.df[\"bdt_presel\"] = vbsvvh.df.eval(\n",
    "#     \"ST > 1300\"\n",
    "#     + \" and hbbfatjet_xbb > 0.5\"\n",
    "#     + \" and hbbfatjet_mass < 150\"\n",
    "#     + \" and ld_vqqfatjet_xwqq > 0.5 and tr_vqqfatjet_xwqq > 0.5\"\n",
    "#     + \" and ld_vqqfatjet_mass < 120 and tr_vqqfatjet_mass < 120\"\n",
    "# )\n",
    "# vbsvvh.make_selection(\"bdt_presel\")\n",
    "\n",
    "bdt_name = \"bdt_mediumPresel\"\n",
    "with open(f\"../analysis/studies/vbsvvhjets/vbsvvhjets_bdt/{bdt_name}_features.txt\", \"r\") as txt_file:\n",
    "    features = txt_file.read().splitlines()\n",
    "bst = pickle.load(open(f\"../analysis/studies/vbsvvhjets/vbsvvhjets_bdt/{bdt_name}.pkl\", \"rb\"))\n",
    "vbsvvh.df[\"bdt\"] = bst.predict(xgb.DMatrix(vbsvvh.df[features]))"
   ]
  },
  {
   "cell_type": "code",
   "execution_count": 24,
   "id": "e3a02448",
   "metadata": {},
   "outputs": [
    {
     "name": "stderr",
     "output_type": "stream",
     "text": [
      "100%|████████████████████████████████████████████████████████████████████████████████████████████████████████████████████████████████████████████████████████████████████████████████████████████| 11664/11664 [09:52<00:00, 19.70it/s]\n"
     ]
    }
   ],
   "source": [
    "scans = {\n",
    "    \"bdt\": np.linspace(0.8, 0.9, 6),\n",
    "    \"hbbfatjet_xbb\": np.linspace(0.5, 0.9, 6),\n",
    "    \"ld_vqqfatjet_xwqq\": np.linspace(0.5, 0.9, 6),\n",
    "    \"tr_vqqfatjet_xwqq\": np.linspace(0.5, 0.9, 6),\n",
    "    \"abs_deta_jj\": [3, 3.5, 4],\n",
    "    \"M_jj\": [400, 500, 600]\n",
    "}\n",
    "\n",
    "cuts = {}\n",
    "for var, wps in scans.items():\n",
    "    cuts[var] = []\n",
    "    for wp in wps:\n",
    "        cuts[var].append(f\"{var} > {wp}\")\n",
    "\n",
    "selections = [\" and \".join(combo) for combo in itertools.product(*cuts.values())]\n",
    "\n",
    "fom = lambda S, B: S/np.sqrt(B) if B > 0 else S/np.sqrt(0.0001)\n",
    "            \n",
    "results = []\n",
    "for sel in tqdm(selections):\n",
    "    sig, bkg = vbsvvh.get_event_counts(selection=sel)\n",
    "    results.append((sel, sig, bkg, fom(sig, bkg)))"
   ]
  },
  {
   "cell_type": "code",
   "execution_count": 25,
   "id": "65f9cd40",
   "metadata": {},
   "outputs": [],
   "source": [
    "results_df = pd.DataFrame(\n",
    "    {\n",
    "        \"selection\": [r[0] for r in results],\n",
    "        \"sig\": [r[1] for r in results],\n",
    "        \"bkg\": [r[2] for r in results],\n",
    "        \"fom\": [r[3] for r in results]\n",
    "    }\n",
    ")"
   ]
  },
  {
   "cell_type": "code",
   "execution_count": 26,
   "id": "60d413fe",
   "metadata": {},
   "outputs": [
    {
     "data": {
      "text/html": [
       "<div>\n",
       "<style scoped>\n",
       "    .dataframe tbody tr th:only-of-type {\n",
       "        vertical-align: middle;\n",
       "    }\n",
       "\n",
       "    .dataframe tbody tr th {\n",
       "        vertical-align: top;\n",
       "    }\n",
       "\n",
       "    .dataframe thead th {\n",
       "        text-align: right;\n",
       "    }\n",
       "</style>\n",
       "<table border=\"1\" class=\"dataframe\">\n",
       "  <thead>\n",
       "    <tr style=\"text-align: right;\">\n",
       "      <th></th>\n",
       "      <th>selection</th>\n",
       "      <th>sig</th>\n",
       "      <th>bkg</th>\n",
       "      <th>fom</th>\n",
       "    </tr>\n",
       "  </thead>\n",
       "  <tbody>\n",
       "    <tr>\n",
       "      <th>9962</th>\n",
       "      <td>bdt &gt; 0.9 and hbbfatjet_xbb &gt; 0.5 and ld_vqqfa...</td>\n",
       "      <td>5.045029</td>\n",
       "      <td>0.807172</td>\n",
       "      <td>5.615398</td>\n",
       "    </tr>\n",
       "    <tr>\n",
       "      <th>8666</th>\n",
       "      <td>bdt &gt; 0.88 and hbbfatjet_xbb &gt; 0.66 and ld_vqq...</td>\n",
       "      <td>5.005103</td>\n",
       "      <td>0.975559</td>\n",
       "      <td>5.067411</td>\n",
       "    </tr>\n",
       "    <tr>\n",
       "      <th>5650</th>\n",
       "      <td>bdt &gt; 0.8400000000000001 and hbbfatjet_xbb &gt; 0...</td>\n",
       "      <td>5.015080</td>\n",
       "      <td>1.019257</td>\n",
       "      <td>4.967479</td>\n",
       "    </tr>\n",
       "    <tr>\n",
       "      <th>5102</th>\n",
       "      <td>bdt &gt; 0.8400000000000001 and hbbfatjet_xbb &gt; 0...</td>\n",
       "      <td>5.068073</td>\n",
       "      <td>1.061146</td>\n",
       "      <td>4.919889</td>\n",
       "    </tr>\n",
       "    <tr>\n",
       "      <th>8342</th>\n",
       "      <td>bdt &gt; 0.88 and hbbfatjet_xbb &gt; 0.58 and ld_vqq...</td>\n",
       "      <td>5.093697</td>\n",
       "      <td>1.118699</td>\n",
       "      <td>4.815889</td>\n",
       "    </tr>\n",
       "    <tr>\n",
       "      <th>10241</th>\n",
       "      <td>bdt &gt; 0.9 and hbbfatjet_xbb &gt; 0.58 and ld_vqqf...</td>\n",
       "      <td>5.027383</td>\n",
       "      <td>1.103192</td>\n",
       "      <td>4.786483</td>\n",
       "    </tr>\n",
       "    <tr>\n",
       "      <th>3706</th>\n",
       "      <td>bdt &gt; 0.8200000000000001 and hbbfatjet_xbb &gt; 0...</td>\n",
       "      <td>5.073891</td>\n",
       "      <td>1.125716</td>\n",
       "      <td>4.782189</td>\n",
       "    </tr>\n",
       "    <tr>\n",
       "      <th>3752</th>\n",
       "      <td>bdt &gt; 0.8200000000000001 and hbbfatjet_xbb &gt; 0...</td>\n",
       "      <td>5.027917</td>\n",
       "      <td>1.115374</td>\n",
       "      <td>4.760777</td>\n",
       "    </tr>\n",
       "    <tr>\n",
       "      <th>5649</th>\n",
       "      <td>bdt &gt; 0.8400000000000001 and hbbfatjet_xbb &gt; 0...</td>\n",
       "      <td>5.078520</td>\n",
       "      <td>1.153125</td>\n",
       "      <td>4.729323</td>\n",
       "    </tr>\n",
       "    <tr>\n",
       "      <th>1763</th>\n",
       "      <td>bdt &gt; 0.8 and hbbfatjet_xbb &gt; 0.9 and ld_vqqfa...</td>\n",
       "      <td>5.026069</td>\n",
       "      <td>1.149155</td>\n",
       "      <td>4.688557</td>\n",
       "    </tr>\n",
       "    <tr>\n",
       "      <th>10283</th>\n",
       "      <td>bdt &gt; 0.9 and hbbfatjet_xbb &gt; 0.58 and ld_vqqf...</td>\n",
       "      <td>5.019112</td>\n",
       "      <td>1.150404</td>\n",
       "      <td>4.679525</td>\n",
       "    </tr>\n",
       "    <tr>\n",
       "      <th>1214</th>\n",
       "      <td>bdt &gt; 0.8 and hbbfatjet_xbb &gt; 0.74 and ld_vqqf...</td>\n",
       "      <td>5.188667</td>\n",
       "      <td>1.230474</td>\n",
       "      <td>4.677563</td>\n",
       "    </tr>\n",
       "    <tr>\n",
       "      <th>7593</th>\n",
       "      <td>bdt &gt; 0.86 and hbbfatjet_xbb &gt; 0.9 and ld_vqqf...</td>\n",
       "      <td>5.002524</td>\n",
       "      <td>1.146655</td>\n",
       "      <td>4.671677</td>\n",
       "    </tr>\n",
       "    <tr>\n",
       "      <th>10511</th>\n",
       "      <td>bdt &gt; 0.9 and hbbfatjet_xbb &gt; 0.66 and ld_vqqf...</td>\n",
       "      <td>5.217024</td>\n",
       "      <td>1.261317</td>\n",
       "      <td>4.645267</td>\n",
       "    </tr>\n",
       "    <tr>\n",
       "      <th>3158</th>\n",
       "      <td>bdt &gt; 0.8200000000000001 and hbbfatjet_xbb &gt; 0...</td>\n",
       "      <td>5.135896</td>\n",
       "      <td>1.228087</td>\n",
       "      <td>4.634486</td>\n",
       "    </tr>\n",
       "  </tbody>\n",
       "</table>\n",
       "</div>"
      ],
      "text/plain": [
       "                                               selection       sig       bkg  \\\n",
       "9962   bdt > 0.9 and hbbfatjet_xbb > 0.5 and ld_vqqfa...  5.045029  0.807172   \n",
       "8666   bdt > 0.88 and hbbfatjet_xbb > 0.66 and ld_vqq...  5.005103  0.975559   \n",
       "5650   bdt > 0.8400000000000001 and hbbfatjet_xbb > 0...  5.015080  1.019257   \n",
       "5102   bdt > 0.8400000000000001 and hbbfatjet_xbb > 0...  5.068073  1.061146   \n",
       "8342   bdt > 0.88 and hbbfatjet_xbb > 0.58 and ld_vqq...  5.093697  1.118699   \n",
       "10241  bdt > 0.9 and hbbfatjet_xbb > 0.58 and ld_vqqf...  5.027383  1.103192   \n",
       "3706   bdt > 0.8200000000000001 and hbbfatjet_xbb > 0...  5.073891  1.125716   \n",
       "3752   bdt > 0.8200000000000001 and hbbfatjet_xbb > 0...  5.027917  1.115374   \n",
       "5649   bdt > 0.8400000000000001 and hbbfatjet_xbb > 0...  5.078520  1.153125   \n",
       "1763   bdt > 0.8 and hbbfatjet_xbb > 0.9 and ld_vqqfa...  5.026069  1.149155   \n",
       "10283  bdt > 0.9 and hbbfatjet_xbb > 0.58 and ld_vqqf...  5.019112  1.150404   \n",
       "1214   bdt > 0.8 and hbbfatjet_xbb > 0.74 and ld_vqqf...  5.188667  1.230474   \n",
       "7593   bdt > 0.86 and hbbfatjet_xbb > 0.9 and ld_vqqf...  5.002524  1.146655   \n",
       "10511  bdt > 0.9 and hbbfatjet_xbb > 0.66 and ld_vqqf...  5.217024  1.261317   \n",
       "3158   bdt > 0.8200000000000001 and hbbfatjet_xbb > 0...  5.135896  1.228087   \n",
       "\n",
       "            fom  \n",
       "9962   5.615398  \n",
       "8666   5.067411  \n",
       "5650   4.967479  \n",
       "5102   4.919889  \n",
       "8342   4.815889  \n",
       "10241  4.786483  \n",
       "3706   4.782189  \n",
       "3752   4.760777  \n",
       "5649   4.729323  \n",
       "1763   4.688557  \n",
       "10283  4.679525  \n",
       "1214   4.677563  \n",
       "7593   4.671677  \n",
       "10511  4.645267  \n",
       "3158   4.634486  "
      ]
     },
     "execution_count": 26,
     "metadata": {},
     "output_type": "execute_result"
    }
   ],
   "source": [
    "results_df[(results_df.sig > 5) & (results_df.bkg > 0)].sort_values(\"fom\", ascending=False)[:15]"
   ]
  },
  {
   "cell_type": "code",
   "execution_count": 27,
   "id": "5a565be2",
   "metadata": {},
   "outputs": [
    {
     "data": {
      "text/plain": [
       "'bdt > 0.9 and hbbfatjet_xbb > 0.5 and ld_vqqfatjet_xwqq > 0.8200000000000001 and tr_vqqfatjet_xwqq > 0.66 and abs_deta_jj > 4 and M_jj > 600'"
      ]
     },
     "execution_count": 27,
     "metadata": {},
     "output_type": "execute_result"
    }
   ],
   "source": [
    "bf_SR = results_df[(results_df.sig > 5) & (results_df.bkg > 0)].sort_values(\"fom\", ascending=False)[:15].selection.values[0]\n",
    "bf_SR"
   ]
  },
  {
   "cell_type": "code",
   "execution_count": 29,
   "id": "52d36b39",
   "metadata": {},
   "outputs": [
    {
     "name": "stdout",
     "output_type": "stream",
     "text": [
      "Signal:     4.660689082644167 +- 0.06067747633923873\n",
      "Background: 0.5678633281235802 +- 0.21793656600851102\n"
     ]
    }
   ],
   "source": [
    "bf_rounded_SR = \"bdt > 0.9 and hbbfatjet_xbb > 0.5 and ld_vqqfatjet_xwqq > 0.82 and tr_vqqfatjet_xwqq > 0.66 and abs_deta_jj > 5 and M_jj > 600\"\n",
    "sig_count, bkg_count = vbsvvh.get_event_counts(bf_rounded_SR)\n",
    "sig_error, bkg_error = vbsvvh.get_event_errors(bf_rounded_SR)\n",
    "print(f\"Signal:     {sig_count} +- {sig_error}\")\n",
    "print(f\"Background: {bkg_count} +- {bkg_error}\")"
   ]
  },
  {
   "cell_type": "code",
   "execution_count": 49,
   "id": "41f744b2",
   "metadata": {},
   "outputs": [
    {
     "data": {
      "text/plain": [
       "'bdt > 0.74 and hbbfatjet_xbb > 0.58 and ld_vqqfatjet_xwqq > 0.62 and tr_vqqfatjet_xwqq > 0.66'"
      ]
     },
     "execution_count": 49,
     "metadata": {},
     "output_type": "execute_result"
    }
   ],
   "source": [
    "bf_SR = results_df[(results_df.sig > 5) & (results_df.bkg > 0)].sort_values(\"fom\", ascending=False)[:15].selection.values[1]\n",
    "bf_SR"
   ]
  },
  {
   "cell_type": "code",
   "execution_count": 50,
   "id": "5784fdea",
   "metadata": {},
   "outputs": [
    {
     "name": "stdout",
     "output_type": "stream",
     "text": [
      "Signal:     5.0135211002373286 +- 0.06309293035494924\n",
      "Background: 1.1027211115484759 +- 0.3359880041887074\n"
     ]
    }
   ],
   "source": [
    "bf_rounded_SR = \"bdt > 0.75 and hbbfatjet_xbb > 0.6 and ld_vqqfatjet_xwqq > 0.6 and tr_vqqfatjet_xwqq > 0.65\"\n",
    "sig_count, bkg_count = vbsvvh.get_event_counts(bf_rounded_SR)\n",
    "sig_error, bkg_error = vbsvvh.get_event_errors(bf_rounded_SR)\n",
    "print(f\"Signal:     {sig_count} +- {sig_error}\")\n",
    "print(f\"Background: {bkg_count} +- {bkg_error}\")"
   ]
  },
  {
   "cell_type": "code",
   "execution_count": 20,
   "id": "f40a93d1",
   "metadata": {},
   "outputs": [],
   "source": [
    "# vbsvvh.df[\"SR\"] = vbsvvh.df.eval(bf_rounded_SR)\n",
    "\n",
    "# vbsvvh.make_selection(\"SR\")\n",
    "# update_cutflows(\"SR\")\n",
    "\n",
    "# cutflows.reorder([\"QCD\", \"TTHad\", \"TT1L\", \"TTW\", \"TTH\", \"SingleTop\", \"Bosons\", \"TotalBkg\", \"VBSVVH\"])\n",
    "# cutflows.write_csv(\"test.csv\", cutflows.terminal_cut_names[-1])"
   ]
  }
 ],
 "metadata": {
  "kernelspec": {
   "display_name": "Python 3 (ipykernel)",
   "language": "python",
   "name": "python3"
  },
  "language_info": {
   "codemirror_mode": {
    "name": "ipython",
    "version": 3
   },
   "file_extension": ".py",
   "mimetype": "text/x-python",
   "name": "python",
   "nbconvert_exporter": "python",
   "pygments_lexer": "ipython3",
   "version": "3.9.13"
  }
 },
 "nbformat": 4,
 "nbformat_minor": 5
}
